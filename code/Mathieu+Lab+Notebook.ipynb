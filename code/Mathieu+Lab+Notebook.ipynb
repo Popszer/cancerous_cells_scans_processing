{
 "cells": [
  {
   "cell_type": "markdown",
   "metadata": {},
   "source": [
    "Tests OpenCv, VTK, ITK et Slicer 3d"
   ]
  },
  {
   "cell_type": "code",
   "execution_count": 18,
   "metadata": {
    "collapsed": true
   },
   "outputs": [],
   "source": [
    "# Imports de bibliothèques\n",
    "\n",
    "import numpy as np\n",
    "from matplotlib import pyplot as plt\n",
    "from mpl_toolkits.mplot3d import Axes3D\n",
    "import cv2\n",
    "import dicom\n",
    "import dicom_numpy\n",
    "import os\n",
    "import radiomics\n",
    "from skimage import io\n",
    "import SimpleITK as sitk\n",
    "import collections"
   ]
  },
  {
   "cell_type": "code",
   "execution_count": 2,
   "metadata": {},
   "outputs": [
    {
     "data": {
      "image/png": "[encoded data removed]",
      "text/plain": [
       "<matplotlib.figure.Figure at 0x1bf30a23f60>"
      ]
     },
     "metadata": {},
     "output_type": "display_data"
    }
   ],
   "source": [
    "I = cv2.imread('D:/Centrale Nantes/Projet/data/001-026/l1/40/PT - A2 - 4_Structure 000 (% Max=40)_T1_Masque_14')\n",
    "plt.imshow(I)\n",
    "plt.show()"
   ]
  },
  {
   "cell_type": "markdown",
   "metadata": {},
   "source": [
    "Création d'un dossier de 10 fichiers dicom"
   ]
  },
  {
   "cell_type": "code",
   "execution_count": null,
   "metadata": {
    "scrolled": true
   },
   "outputs": [],
   "source": [
    "DOSSIER = []\n",
    "for dirpath,dirnames,filenames in os.walk(\"tests/dcm\"):\n",
    "    for file in filenames:\n",
    "        DOSSIER.append(os.path.join(dirpath,file))\n",
    "\n",
    "for d in DOSSIER:\n",
    "    f = dicom.read_file(d)\n",
    "    I=f.pixel_array\n",
    "    plt.figure(figsize=(10,10))\n",
    "    plt.imshow(I,cmap='gray')\n",
    "    plt.show()"
   ]
  },
  {
   "cell_type": "markdown",
   "metadata": {},
   "source": [
    "Construction d'une image 3D grâce à dicom_numpy"
   ]
  },
  {
   "cell_type": "code",
   "execution_count": 3,
   "metadata": {
    "scrolled": false
   },
   "outputs": [
    {
     "name": "stdout",
     "output_type": "stream",
     "text": [
      "(168, 168, 324)\n",
      "[[   4.0728302     0.            0.         -337.5123291 ]\n",
      " [   0.            4.0728302     0.         -480.49365234]\n",
      " [   0.            0.            3.          740.5       ]\n",
      " [   0.            0.            0.            1.        ]]\n"
     ]
    }
   ],
   "source": [
    "DOSSIER = []\n",
    "for dirpath,dirnames,filenames in os.walk(\"tests/dcm\"):\n",
    "    for file in filenames:\n",
    "        DOSSIER.append(os.path.join(dirpath,file))\n",
    "\n",
    "datasets = [dicom.read_file(d) for d in DOSSIER]\n",
    "\n",
    "voxel_ndarray, ijk_to_xyz = dicom_numpy.combine_slices(datasets)\n",
    "\n",
    "print(np.shape(voxel_ndarray))\n",
    "print(ijk_to_xyz)\n"
   ]
  },
  {
   "cell_type": "markdown",
   "metadata": {},
   "source": [
    "Création du masque"
   ]
  },
  {
   "cell_type": "code",
   "execution_count": 4,
   "metadata": {
    "scrolled": true
   },
   "outputs": [
    {
     "name": "stdout",
     "output_type": "stream",
     "text": [
      "(168, 168, 324)\n",
      "(168, 168, 324)\n",
      "(168, 168, 324)\n",
      "(168, 168, 324)\n",
      "(168, 168, 324)\n",
      "(168, 168, 324)\n",
      "(168, 168, 324)\n"
     ]
    }
   ],
   "source": [
    "mask = np.zeros((168,168,324))\n",
    "for i in range(1,8):\n",
    "    m = io.imread(\"tests/l\"+str(i)+\"/kmean.tif\")\n",
    "    print(m.T.shape)\n",
    "    m = m.T\n",
    "    mask += m\n",
    "\n",
    "# Remettre le masque en binaire\n",
    "[x,y,z]=mask.shape\n",
    "for i in range(x):\n",
    "    for j in range(y):\n",
    "        for k in range(z):\n",
    "            if mask[i,j,k]>1:\n",
    "                mask[i,j,k] = 1\n",
    "\n",
    "# Visualisation du masque\n",
    "# for z in range(0,324):\n",
    "#     plt.imshow(mask[:,:,z],cmap='gray')\n",
    "#     plt.show()"
   ]
  },
  {
   "cell_type": "code",
   "execution_count": 5,
   "metadata": {},
   "outputs": [
    {
     "name": "stdout",
     "output_type": "stream",
     "text": [
      "<radiomics.featureextractor.RadiomicsFeaturesExtractor object at 0x000001BF35A7AE48>\n",
      "dict_keys(['firstorder', 'glcm', 'gldm', 'glrlm', 'glszm', 'ngtdm', 'shape'])\n"
     ]
    }
   ],
   "source": [
    "R = radiomics.featureextractor.RadiomicsFeaturesExtractor()\n",
    "print(R)\n",
    "R.enableAllFeatures()\n",
    "print(R.getFeatureClassNames())\n",
    "R.getFeatureNames('glcm')\n",
    "\n",
    "# Conversion array ==> simpleITK\n",
    "image = sitk.GetImageFromArray(voxel_ndarray)\n",
    "mask = sitk.GetImageFromArray(mask)\n",
    "\n",
    "Dico = R.execute(image, mask)"
   ]
  },
  {
   "cell_type": "code",
   "execution_count": 37,
   "metadata": {},
   "outputs": [
    {
     "ename": "TypeError",
     "evalue": "'type' object is not iterable",
     "output_type": "error",
     "traceback": [
      "\u001b[1;31m---------------------------------------------------------------------------\u001b[0m",
      "\u001b[1;31mTypeError\u001b[0m                                 Traceback (most recent call last)",
      "\u001b[1;32m<ipython-input-37-835f2c07defc>\u001b[0m in \u001b[0;36m<module>\u001b[1;34m()\u001b[0m\n\u001b[0;32m      2\u001b[0m \u001b[0mF\u001b[0m\u001b[1;33m.\u001b[0m\u001b[0mgetAutocorrelationFeatureValue\u001b[0m\u001b[1;33m(\u001b[0m\u001b[1;33m)\u001b[0m\u001b[1;33m\u001b[0m\u001b[0m\n\u001b[0;32m      3\u001b[0m \u001b[1;33m\u001b[0m\u001b[0m\n\u001b[1;32m----> 4\u001b[1;33m \u001b[1;32mfor\u001b[0m \u001b[0mattribut\u001b[0m \u001b[1;32min\u001b[0m \u001b[0mradiomics\u001b[0m\u001b[1;33m.\u001b[0m\u001b[0mglcm\u001b[0m\u001b[1;33m.\u001b[0m\u001b[0mRadiomicsGLCM\u001b[0m\u001b[1;33m:\u001b[0m\u001b[1;33m\u001b[0m\u001b[0m\n\u001b[0m\u001b[0;32m      5\u001b[0m     \u001b[0mprint\u001b[0m\u001b[1;33m(\u001b[0m\u001b[0mattribut\u001b[0m\u001b[1;33m.\u001b[0m\u001b[0mnom\u001b[0m\u001b[1;33m)\u001b[0m\u001b[1;33m\u001b[0m\u001b[0m\n",
      "\u001b[1;31mTypeError\u001b[0m: 'type' object is not iterable"
     ]
    }
   ],
   "source": [
    "F = radiomics.glcm.RadiomicsGLCM(image, mask)\n",
    "F.getAutocorrelationFeatureValue()\n",
    "\n",
    "for attribut in radiomics.glcm.RadiomicsGLCM:\n",
    "    print(attribut.nom)"
   ]
  },
  {
   "cell_type": "code",
   "execution_count": null,
   "metadata": {
    "collapsed": true
   },
   "outputs": [],
   "source": []
  }
 ],
 "metadata": {
  "kernelspec": {
   "display_name": "Python 3",
   "language": "python",
   "name": "python3"
  },
  "language_info": {
   "codemirror_mode": {
    "name": "ipython",
    "version": 3
   },
   "file_extension": ".py",
   "mimetype": "text/x-python",
   "name": "python",
   "nbconvert_exporter": "python",
   "pygments_lexer": "ipython3",
   "version": "3.6.2"
  }
 },
 "nbformat": 4,
 "nbformat_minor": 2
}
