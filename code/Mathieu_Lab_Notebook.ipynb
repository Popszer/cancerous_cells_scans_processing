{
 "cells": [
  {
   "cell_type": "markdown",
   "metadata": {},
   "source": [
    "Tests OpenCv, VTK, ITK et Slicer 3d"
   ]
  },
  {
   "cell_type": "code",
   "execution_count": null,
   "metadata": {
    "collapsed": true
   },
   "outputs": [],
   "source": [
    "# Imports de bibliothèques\n",
    "\n",
    "import numpy as np\n",
    "from matplotlib import pyplot as plt\n",
    "from mpl_toolkits.mplot3d import Axes3D\n",
    "import cv2\n",
    "import dicom\n",
    "import dicom_numpy\n",
    "import os\n",
    "import radiomics\n",
    "from skimage import io\n",
    "import SimpleITK as sitk\n",
    "import collections\n",
    "import re"
   ]
  },
  {
   "cell_type": "code",
   "execution_count": null,
   "metadata": {
    "collapsed": true
   },
   "outputs": [],
   "source": [
    "# Création du path data\n",
    "path = \"C:/Users/mathi_000/jupyter/Projet/data/\""
   ]
  },
  {
   "cell_type": "markdown",
   "metadata": {},
   "source": [
    "Création d'un dossier de fichiers dicom"
   ]
  },
  {
   "cell_type": "code",
   "execution_count": null,
   "metadata": {
    "scrolled": true
   },
   "outputs": [],
   "source": [
    "DOSSIER = []\n",
    "for dirpath,dirnames,filenames in os.walk(path+\"001-026/dcm\"):\n",
    "    for file in filenames:\n",
    "        DOSSIER.append(os.path.join(dirpath,file))\n",
    "\n",
    "for d in DOSSIER:\n",
    "    f = dicom.read_file(d)\n",
    "    I=f.pixel_array\n",
    "    plt.figure(figsize=(10,10))\n",
    "    plt.imshow(I,cmap='gray')\n",
    "    plt.show()"
   ]
  },
  {
   "cell_type": "markdown",
   "metadata": {},
   "source": [
    "Construction d'une image 3D grâce à dicom_numpy"
   ]
  },
  {
   "cell_type": "code",
   "execution_count": null,
   "metadata": {
    "scrolled": false
   },
   "outputs": [],
   "source": [
    "DOSSIER = []\n",
    "for dirpath,dirnames,filenames in os.walk(path+\"001-026/dcm\"):\n",
    "    for file in filenames:\n",
    "        DOSSIER.append(os.path.join(dirpath,file))\n",
    "\n",
    "datasets = [dicom.read_file(d) for d in DOSSIER]\n",
    "\n",
    "voxel_ndarray, ijk_to_xyz = dicom_numpy.combine_slices(datasets)\n",
    "\n",
    "print(np.shape(voxel_ndarray))\n",
    "print(ijk_to_xyz)"
   ]
  },
  {
   "cell_type": "markdown",
   "metadata": {},
   "source": [
    "Création du masque (on prend le deuxième masque du premier patient)"
   ]
  },
  {
   "cell_type": "code",
   "execution_count": null,
   "metadata": {
    "scrolled": false
   },
   "outputs": [],
   "source": [
    "m = io.imread(path+\"001-026/l2/kmean.tif\")\n",
    "print(m.shape)\n",
    "print(m.T.shape)\n",
    "m = m.T\n",
    "\n",
    "# # Visualisation du masque\n",
    "# for z in range(0,324):\n",
    "#     plt.imshow(m[:,:,z],cmap='gray')\n",
    "#     plt.show()\n"
   ]
  },
  {
   "cell_type": "code",
   "execution_count": null,
   "metadata": {
    "collapsed": true
   },
   "outputs": [],
   "source": [
    "R = radiomics.featureextractor.RadiomicsFeaturesExtractor()\n",
    "print(R)\n",
    "R.enableAllFeatures()\n",
    "print(R.getFeatureClassNames())\n",
    "R.getFeatureNames('glcm')\n",
    "\n",
    "# Conversion array ==> simpleITK\n",
    "image = sitk.GetImageFromArray(voxel_ndarray)\n",
    "mask = sitk.GetImageFromArray(m)"
   ]
  },
  {
   "cell_type": "code",
   "execution_count": null,
   "metadata": {
    "collapsed": true
   },
   "outputs": [],
   "source": [
    "F = radiomics.glcm.RadiomicsGLCM(image, mask)\n",
    "F.getContrastFeatureValue()"
   ]
  },
  {
   "cell_type": "markdown",
   "metadata": {
    "collapsed": true
   },
   "source": [
    "Test extraction masque 2.5"
   ]
  },
  {
   "cell_type": "code",
   "execution_count": null,
   "metadata": {
    "collapsed": true,
    "scrolled": false
   },
   "outputs": [],
   "source": [
    "DOSSIER_MASK = []\n",
    "for dirpath,dirnames,filenames in os.walk(path+\"001-026/l2/40\"):\n",
    "    for file in filenames:\n",
    "        DOSSIER_MASK.append(os.path.join(dirpath,file))\n",
    "        \n",
    "#Prendre dimensions des images\n",
    "DOSSIER = []\n",
    "for dirpath,dirnames,filenames in os.walk(path+\"001-026/dcm\"):\n",
    "    for file in filenames:\n",
    "        DOSSIER.append(os.path.join(dirpath,file))\n",
    "f = dicom.read_file(DOSSIER[0])\n",
    "I=f.pixel_array\n",
    "s = np.shape(I)\n",
    "\n",
    "for i in DOSSIER_MASK:\n",
    "    m = np.zeros(s)\n",
    "    file = open(i)\n",
    "    file.readline()\n",
    "    file.readline()\n",
    "    file.readline()\n",
    "    for x in range(s[0]):\n",
    "        for y in range(s[1]):\n",
    "            r = file.read(1)\n",
    "            while (r!='0' and r!='1'):\n",
    "                r = file.read(1)\n",
    "            r = float(r)\n",
    "            if r!=0:\n",
    "                m[x,y]=r\n",
    "                \n",
    "    flag=0            \n",
    "    for y in range(168):\n",
    "        for x in range(168):\n",
    "            if m[x,y]==1:\n",
    "                flag = 1\n",
    "    if flag==1:\n",
    "        plt.imshow(m, cmap='gray')\n",
    "        plt.show()"
   ]
  },
  {
   "cell_type": "code",
   "execution_count": null,
   "metadata": {
    "collapsed": true
   },
   "outputs": [],
   "source": [
    "# Test avec fonction de francois\n",
    "\n",
    "def getWords(text):\n",
    "    return re.compile('\\w+').findall(text)\n",
    "\n",
    "\n",
    "\n",
    "list_pileFiles = []\n",
    "for dirpath,dirnames,fileNames in os.walk(path+\"001-026/l2/40\"):\n",
    "    for file in fileNames:\n",
    "        list_pileFiles.append(os.path.join(dirpath,file))\n",
    "list_pileFilesAsArray = []\n",
    "    \n",
    "first_file = list_pileFiles[0]\n",
    "#get the shape of the image\n",
    "with open(first_file, mode='r', encoding='utf-8') as file:\n",
    "    file.readline()#first line junk data\n",
    "    shapeLocalMask = getWords(file.readline()) #secondline is shape of the dcm pile\n",
    "    xShape = int(shapeLocalMask[0])\n",
    "    yShape = int(shapeLocalMask[1])\n",
    "    mask_size = (xShape, yShape)\n",
    "    \n",
    "num_file = len(list_pileFiles)\n",
    "mask_array = np.zeros((num_file, xShape, yShape))\n",
    "fileIndex = 0\n",
    "for pileFile in list_pileFiles:\n",
    "    with open(pileFile, mode='r', encoding='utf-8') as file:\n",
    "        file.readline() #junk line\n",
    "        file.readline() #secondline is shape of the dcm pile\n",
    "        file.readline() # 3 lines of junk data\n",
    "        for rowIndex in range(xShape):\n",
    "            for colIndex in range(yShape):\n",
    "                val = file.read(1)\n",
    "                while (val!='0' and val!='1'):\n",
    "                    val = file.read(1)\n",
    "                mask_array[fileIndex,rowIndex, colIndex] = int(val)\n",
    "        fileIndex = fileIndex + 1"
   ]
  },
  {
   "cell_type": "code",
   "execution_count": null,
   "metadata": {
    "collapsed": true
   },
   "outputs": [],
   "source": [
    "print(mask_array.shape)\n",
    "print(m.shape)"
   ]
  },
  {
   "cell_type": "code",
   "execution_count": null,
   "metadata": {
    "collapsed": true,
    "scrolled": false
   },
   "outputs": [],
   "source": [
    "for i in range (mask_array.shape[0]):\n",
    "    flag=0            \n",
    "    for y in range(168):\n",
    "        for x in range(168):\n",
    "            if mask_array[325-i,x,y]==1:\n",
    "                flag = 1\n",
    "    if flag==1:\n",
    "        plt.imshow(mask_array[325-i, :, :], cmap='gray')\n",
    "        plt.show()\n",
    "    "
   ]
  },
  {
   "cell_type": "code",
   "execution_count": null,
   "metadata": {
    "collapsed": true
   },
   "outputs": [],
   "source": [
    "mkmean = io.imread(path+\"001-026/l2/kmean.tif\")\n",
    "print(mkmean.shape)\n",
    "for i in range (mkmean.shape[0]):\n",
    "    flag=0            \n",
    "    for y in range(168):\n",
    "        for x in range(168):\n",
    "            if mkmean[i,x,y]==1:\n",
    "                flag = 1\n",
    "    if flag==1:\n",
    "        plt.imshow(mkmean[i, :, :], cmap='gray')\n",
    "        plt.show()"
   ]
  },
  {
   "cell_type": "code",
   "execution_count": null,
   "metadata": {
    "collapsed": true
   },
   "outputs": [],
   "source": []
  }
 ],
 "metadata": {
  "kernelspec": {
   "display_name": "Python 3",
   "language": "python",
   "name": "python3"
  },
  "language_info": {
   "codemirror_mode": {
    "name": "ipython",
    "version": 3
   },
   "file_extension": ".py",
   "mimetype": "text/x-python",
   "name": "python",
   "nbconvert_exporter": "python",
   "pygments_lexer": "ipython3",
   "version": "3.6.2"
  }
 },
 "nbformat": 4,
 "nbformat_minor": 2
}
