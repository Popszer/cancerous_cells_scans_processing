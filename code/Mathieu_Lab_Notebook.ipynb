{
 "cells": [
  {
   "cell_type": "markdown",
   "metadata": {},
   "source": [
    "Tests OpenCv, VTK, ITK et Slicer 3d"
   ]
  },
  {
   "cell_type": "code",
   "execution_count": 1,
   "metadata": {
    "collapsed": true
   },
   "outputs": [],
   "source": [
    "# Imports de bibliothèques\n",
    "\n",
    "import numpy as np\n",
    "from matplotlib import pyplot as plt\n",
    "from mpl_toolkits.mplot3d import Axes3D\n",
    "import cv2\n",
    "import dicom\n",
    "import dicom_numpy\n",
    "import os\n",
    "import radiomics\n",
    "from skimage import io\n",
    "import SimpleITK as sitk\n",
    "import collections\n",
    "import re"
   ]
  },
  {
   "cell_type": "code",
   "execution_count": 2,
   "metadata": {
    "collapsed": true
   },
   "outputs": [],
   "source": [
    "# Création du path data\n",
    "path = \"C:/Users/mathi_000/jupyter/Projet/data/\""
   ]
  },
  {
   "cell_type": "markdown",
   "metadata": {},
   "source": [
    "Création d'un dossier de fichiers dicom"
   ]
  },
  {
   "cell_type": "code",
   "execution_count": 3,
   "metadata": {
    "collapsed": true,
    "scrolled": true
   },
   "outputs": [],
   "source": [
    "DOSSIER = []\n",
    "for dirpath,dirnames,filenames in os.walk(path+\"001-026/dcm\"):\n",
    "    for file in filenames:\n",
    "        DOSSIER.append(os.path.join(dirpath,file))\n",
    "\n",
    "# for d in DOSSIER:\n",
    "#     f = dicom.read_file(d)\n",
    "#     I=f.pixel_array\n",
    "#     plt.figure(figsize=(10,10))\n",
    "#     plt.imshow(I,cmap='gray')\n",
    "#     plt.show()"
   ]
  },
  {
   "cell_type": "code",
   "execution_count": 50,
   "metadata": {
    "scrolled": false
   },
   "outputs": [
    {
     "name": "stdout",
     "output_type": "stream",
     "text": [
      "[(0018, 1072) Radiopharmaceutical Start Time      TM: '094845.000000'\n",
      "(0018, 1074) Radionuclide Total Dose             DS: '217559997.55859'\n",
      "(0018, 1075) Radionuclide Half Life              DS: '6586.2'\n",
      "(0018, 1076) Radionuclide Positron Fraction      DS: '0.97'\n",
      "(0054, 0300)  Radionuclide Code Sequence   1 item(s) ---- \n",
      "   (0008, 0100) Code Value                          SH: 'C-111A1'\n",
      "   (0008, 0102) Coding Scheme Designator            SH: 'SNM3'\n",
      "   (0008, 0104) Code Meaning                        LO: 'F^18^[^18^Fluorine]'\n",
      "   (0008, 0105) Mapping Resource                    CS: 'DCMR'\n",
      "   (0008, 0106) Context Group Version               DT: '20020904000000.000000'\n",
      "   (0008, 010f) Context Identifier                  CS: '4020'\n",
      "   ---------]\n",
      "[(0018, 1072) Radiopharmaceutical Start Time      TM: '094845.000000'\n",
      "(0018, 1074) Radionuclide Total Dose             DS: '217559997.55859'\n",
      "(0018, 1075) Radionuclide Half Life              DS: '6586.2'\n",
      "(0018, 1076) Radionuclide Positron Fraction      DS: '0.97'\n",
      "(0054, 0300)  Radionuclide Code Sequence   1 item(s) ---- \n",
      "   (0008, 0100) Code Value                          SH: 'C-111A1'\n",
      "   (0008, 0102) Coding Scheme Designator            SH: 'SNM3'\n",
      "   (0008, 0104) Code Meaning                        LO: 'F^18^[^18^Fluorine]'\n",
      "   (0008, 0105) Mapping Resource                    CS: 'DCMR'\n",
      "   (0008, 0106) Context Group Version               DT: '20020904000000.000000'\n",
      "   (0008, 010f) Context Identifier                  CS: '4020'\n",
      "   ---------]\n",
      "(0008, 0005) Specific Character Set              CS: 'ISO_IR 100'\n",
      "(0008, 0008) Image Type                          CS: ['ORIGINAL', 'PRIMARY']\n",
      "(0008, 0016) SOP Class UID                       UI: Positron Emission Tomography Image Storage\n",
      "(0008, 0018) SOP Instance UID                    UI: 1.3.12.2.1107.5.99.2.21723.30000011112313252698400004604\n",
      "(0008, 0020) Study Date                          DA: '20110607'\n",
      "(0008, 0021) Series Date                         DA: '20110607'\n",
      "(0008, 0022) Acquisition Date                    DA: '20110607'\n",
      "(0008, 0023) Content Date                        DA: '20110607'\n",
      "(0008, 0030) Study Time                          TM: '104535.750000'\n",
      "(0008, 0031) Series Time                         TM: '105203.375000'\n",
      "(0008, 0032) Acquisition Time                    TM: '105203.375000'\n",
      "(0008, 0033) Content Time                        TM: '111040.000000'\n",
      "(0008, 0050) Accession Number                    SH: ''\n",
      "(0008, 0060) Modality                            CS: 'PT'\n",
      "(0008, 0061) Modalities in Study                 CS: ['PT', 'CT']\n",
      "(0008, 0070) Manufacturer                        LO: 'SIEMENS'\n",
      "(0008, 0090) Referring Physician's Name          PN: ''\n",
      "(0008, 1010) Station Name                        SH: 'CT45547'\n",
      "(0008, 103e) Series Description                  LO: 'PET TAP CE AC HD'\n",
      "(0008, 1040) Institutional Department Name       LO: 'TEP Purpan'\n",
      "(0008, 1090) Manufacturer's Model Name           LO: '1094'\n",
      "(0010, 0010) Patient's Name                      PN: 'IMAJEM^001-026 GG (CE)'\n",
      "(0010, 0020) Patient ID                          LO: 'XXXX'\n",
      "(0010, 0030) Patient's Birth Date                DA: '19000101'\n",
      "(0010, 0040) Patient's Sex                       CS: 'F'\n",
      "(0010, 1010) Patient's Age                       AS: '111Y'\n",
      "(0010, 1020) Patient's Size                      DS: '1.53'\n",
      "(0010, 1030) Patient's Weight                    DS: '74'\n",
      "(0018, 0050) Slice Thickness                     DS: '5'\n",
      "(0018, 1000) Device Serial Number                LO: '10000'\n",
      "(0018, 1020) Software Version(s)                 LO: 'PET/CT 2009A'\n",
      "(0018, 1030) Protocol Name                       LO: '410_PETCT_CE_2parties'\n",
      "(0018, 1181) Collimator Type                     CS: 'NONE'\n",
      "(0018, 1200) Date of Last Calibration            DA: ['20110607', '20110222']\n",
      "(0018, 1201) Time of Last Calibration            TM: ['080126.187000', '112155.000000']\n",
      "(0018, 1210) Convolution Kernel                  SH: 'All-pass'\n",
      "(0018, 1242) Actual Frame Duration               IS: '160000'\n",
      "(0018, 5100) Patient Position                    CS: 'FFS'\n",
      "(0020, 000d) Study Instance UID                  UI: 1.3.12.2.1107.5.99.2.21723.30000011112313252698400004879\n",
      "(0020, 000e) Series Instance UID                 UI: 1.3.12.2.1107.5.99.2.21723.30000011112313252698400004878\n",
      "(0020, 0010) Study ID                            SH: 'A2'\n",
      "(0020, 0011) Series Number                       IS: '4'\n",
      "(0020, 0012) Acquisition Number                  IS: '2001'\n",
      "(0020, 0013) Instance Number                     IS: '51'\n",
      "(0020, 0032) Image Position (Patient)            DS: ['-337.5123400227', '-480.4936400573', '1559.5']\n",
      "(0020, 0037) Image Orientation (Patient)         DS: ['1', '0', '0', '0', '1', '0']\n",
      "(0020, 0052) Frame of Reference UID              UI: 1.3.12.2.1107.5.1.4.45547.30000011060705522981200001173\n",
      "(0020, 1040) Position Reference Indicator        LO: ''\n",
      "(0020, 1041) Slice Location                      DS: '-1559.5'\n",
      "(0020, 1208) Number of Study Related Instances   IS: '749'\n",
      "(0020, 4000) Image Comments                      LT: 'AC HD^AC_CT'\n",
      "(0028, 0002) Samples per Pixel                   US: 1\n",
      "(0028, 0004) Photometric Interpretation          CS: 'MONOCHROME2'\n",
      "(0028, 0010) Rows                                US: 168\n",
      "(0028, 0011) Columns                             US: 168\n",
      "(0028, 0030) Pixel Spacing                       DS: ['4.07283', '4.07283']\n",
      "(0028, 0051) Corrected Image                     CS: ['NORM', 'DTIM', 'ATTN', 'SCAT', 'DECY']\n",
      "(0028, 0100) Bits Allocated                      US: 16\n",
      "(0028, 0101) Bits Stored                         US: 16\n",
      "(0028, 0102) High Bit                            US: 15\n",
      "(0028, 0103) Pixel Representation                US: 1\n",
      "(0028, 0106) Smallest Image Pixel Value          US: 0\n",
      "(0028, 0107) Largest Image Pixel Value           US: 9644\n",
      "(0028, 1050) Window Center                       DS: '4292'\n",
      "(0028, 1051) Window Width                        DS: '7725'\n",
      "(0028, 1052) Rescale Intercept                   DS: '0'\n",
      "(0028, 1053) Rescale Slope                       DS: '1.06637'\n",
      "(0028, 1054) Rescale Type                        LO: 'BQML'\n",
      "(0029, 0010) Private Creator                     LO: 'SIEMENS MEDCOM HEADER'\n",
      "(0029, 1020) [MedCom History Information]        OB: Array of 1130 bytes\n",
      "(0032, 1060) Requested Procedure Description     LO: 'TEP corps entier'\n",
      "(0054, 0013)  Energy Window Range Sequence   1 item(s) ---- \n",
      "   (0054, 0014) Energy Window Lower Limit           DS: '435'\n",
      "   (0054, 0015) Energy Window Upper Limit           DS: '650'\n",
      "   ---------\n",
      "(0054, 0016)  Radiopharmaceutical Information Sequence   1 item(s) ---- \n",
      "   (0018, 1072) Radiopharmaceutical Start Time      TM: '094845.000000'\n",
      "   (0018, 1074) Radionuclide Total Dose             DS: '217559997.55859'\n",
      "   (0018, 1075) Radionuclide Half Life              DS: '6586.2'\n",
      "   (0018, 1076) Radionuclide Positron Fraction      DS: '0.97'\n",
      "   (0054, 0300)  Radionuclide Code Sequence   1 item(s) ---- \n",
      "      (0008, 0100) Code Value                          SH: 'C-111A1'\n",
      "      (0008, 0102) Coding Scheme Designator            SH: 'SNM3'\n",
      "      (0008, 0104) Code Meaning                        LO: 'F^18^[^18^Fluorine]'\n",
      "      (0008, 0105) Mapping Resource                    CS: 'DCMR'\n",
      "      (0008, 0106) Context Group Version               DT: '20020904000000.000000'\n",
      "      (0008, 010f) Context Identifier                  CS: '4020'\n",
      "      ---------\n",
      "   ---------\n",
      "(0054, 0081) Number of Slices                    US: 324\n",
      "(0054, 0410)  Patient Orientation Code Sequence   1 item(s) ---- \n",
      "   (0008, 0100) Code Value                          SH: 'F-10450'\n",
      "   (0008, 0102) Coding Scheme Designator            SH: '99SDM'\n",
      "   (0008, 0104) Code Meaning                        LO: 'recumbent'\n",
      "   (0008, 0105) Mapping Resource                    CS: 'DCMR'\n",
      "   (0008, 0106) Context Group Version               DT: '20020904000000.000000'\n",
      "   (0008, 010f) Context Identifier                  CS: '19'\n",
      "   (0054, 0412)  Patient Orientation Modifier Code Sequence   1 item(s) ---- \n",
      "      (0008, 0100) Code Value                          SH: 'F-10340'\n",
      "      (0008, 0102) Coding Scheme Designator            SH: '99SDM'\n",
      "      (0008, 0104) Code Meaning                        LO: 'supine'\n",
      "      (0008, 0105) Mapping Resource                    CS: 'DCMR'\n",
      "      (0008, 0106) Context Group Version               DT: '20020904000000.000000'\n",
      "      (0008, 010f) Context Identifier                  CS: '20'\n",
      "      ---------\n",
      "   ---------\n",
      "(0054, 0414)  Patient Gantry Relationship Code Sequence   1 item(s) ---- \n",
      "   (0008, 0100) Code Value                          SH: 'F-10480'\n",
      "   (0008, 0102) Coding Scheme Designator            SH: '99SDM'\n",
      "   (0008, 0104) Code Meaning                        LO: 'feet-first'\n",
      "   (0008, 0105) Mapping Resource                    CS: 'DCMR'\n",
      "   (0008, 0106) Context Group Version               DT: '20020904000000.000000'\n",
      "   (0008, 010f) Context Identifier                  CS: '21'\n",
      "   ---------\n",
      "(0054, 1000) Series Type                         CS: ['WHOLE BODY', 'IMAGE']\n",
      "(0054, 1001) Units                               CS: 'BQML'\n",
      "(0054, 1002) Counts Source                       CS: 'EMISSION'\n",
      "(0054, 1100) Randoms Correction Method           CS: 'DLYD'\n",
      "(0054, 1101) Attenuation Correction Method       LO: 'measured,AC_CT'\n",
      "(0054, 1102) Decay Correction                    CS: 'START'\n",
      "(0054, 1103) Reconstruction Method               LO: 'PSF 3i21s'\n",
      "(0054, 1105) Scatter Correction Method           LO: 'Model-based'\n",
      "(0054, 1200) Axial Acceptance                    DS: '38'\n",
      "(0054, 1201) Axial Mash                          IS: ['5', '6']\n",
      "(0054, 1300) Frame Reference Time                DS: '79887.741756125'\n",
      "(0054, 1321) Decay Factor                        DS: '1.00844'\n",
      "(0054, 1322) Dose Calibration Factor             DS: '34492300'\n",
      "(0054, 1323) Scatter Fraction Factor             DS: '0.306572'\n",
      "(0054, 1330) Image Index                         US: 51\n",
      "(07a1, 0010) Private Creator                     LO: 'ELSCINT1'\n",
      "(07a1, 1002) [number of images in series]        UL: 324\n",
      "(07a1, 102a) [Tamar Study Status]                CS: 'UNREAD'\n",
      "(07a1, 1043) [Unknown]                           IS: '1'\n",
      "(07a1, 1050) [Tamar Site Id]                     US: 0\n",
      "(07a1, 1058) Private tag data                    CS: 'Y'\n",
      "(07a1, 105f) Private tag data                    CS: 'N'\n",
      "(07a1, 1085) [Tamar Translate Flags]             UL: 3\n",
      "(07a1, 1088) Private tag data                    CS: 'N'\n",
      "(07a1, 1098) Private tag data                    CS: 'N'\n",
      "(07a1, 1099) Private tag data                    ST: 'D'\n",
      "(07a1, 10c0) Private tag data                    ST: 'N'\n",
      "(07a3, 0010) Private Creator                     LO: 'ELSCINT1'\n",
      "(07a3, 1001) [Tamar Exe Software Version]        LO: '11.0.3'\n",
      "(07a3, 1003) [Tamar Study Has Sticky Note]       CS: 'N'\n",
      "(07a3, 1022) Private tag data                    ST: 'VERIFIED'\n",
      "(07a3, 1024) Private tag data                    ST: 'N'\n",
      "(07a3, 1034) [Tamar Study Age]                   SH: '40676'\n",
      "(07a3, 1055) [Unknown]                           SH: 'N'\n",
      "(07a3, 1099) [Unknown]                           CS: 'N'\n",
      "(07a3, 109c) [Unknown]                           CS: 'N'\n",
      "(07a3, 10b9) Private tag data                    CS: 'N'\n",
      "(07a3, 10bb) Private tag data                    CS: 'N'\n",
      "(07a3, 10cb)  Private tag data   1 item(s) ---- \n",
      "   (07a3, 0010) Private Creator                     LO: 'ELSCINT1'\n",
      "   (07a3, 10c1) Private tag data                    LO: 'Lithium_GN'\n",
      "   (07a3, 10c2) Private tag data                    CS: 'FAST_NET'\n",
      "   (07a3, 10c3) Private tag data                    CS: 'REGULAR_CON'\n",
      "   (07a3, 10c4) Private tag data                    LO: '127.0.0.1'\n",
      "   (07a3, 10c5) Private tag data                    LO: '2104'\n",
      "   (07a3, 10c8) Private tag data                    AE: 'med_imFIR'\n",
      "   (07a3, 10c9) Private tag data                    CS: 'N'\n",
      "   (07a3, 10cc) Private tag data                    LO: '1.0'\n",
      "   ---------\n",
      "(07a5, 0010) Private Creator                     LO: 'ELSCINT1'\n",
      "(07a5, 1056) Private tag data                    CS: 'Y'\n",
      "(7fe0, 0010) Pixel Data                          OW: Array of 56448 bytes\n"
     ]
    }
   ],
   "source": [
    "d1 = DOSSIER[50]\n",
    "d2 = DOSSIER[200]\n",
    "f1 = dicom.read_file(d1)\n",
    "f2 = dicom.read_file(d2)\n",
    "print(f1[0x54,0x16].value)\n",
    "print(f2[0x54,0x16].value)\n",
    "print(f1)"
   ]
  },
  {
   "cell_type": "code",
   "execution_count": null,
   "metadata": {
    "collapsed": true
   },
   "outputs": [],
   "source": [
    "def SUVconversion(listDCMslices):\n",
    "    "
   ]
  },
  {
   "cell_type": "markdown",
   "metadata": {},
   "source": [
    "Construction d'une image 3D grâce à dicom_numpy"
   ]
  },
  {
   "cell_type": "code",
   "execution_count": null,
   "metadata": {
    "collapsed": true,
    "scrolled": false
   },
   "outputs": [],
   "source": [
    "DOSSIER = []\n",
    "for dirpath,dirnames,filenames in os.walk(path+\"001-026/dcm\"):\n",
    "    for file in filenames:\n",
    "        DOSSIER.append(os.path.join(dirpath,file))\n",
    "\n",
    "datasets = [dicom.read_file(d) for d in DOSSIER]\n",
    "\n",
    "voxel_ndarray, ijk_to_xyz = dicom_numpy.combine_slices(datasets)\n",
    "\n",
    "print(np.shape(voxel_ndarray))\n",
    "print(ijk_to_xyz)"
   ]
  },
  {
   "cell_type": "markdown",
   "metadata": {},
   "source": [
    "Création du masque (on prend le deuxième masque du premier patient)"
   ]
  },
  {
   "cell_type": "code",
   "execution_count": null,
   "metadata": {
    "collapsed": true,
    "scrolled": false
   },
   "outputs": [],
   "source": [
    "m = io.imread(path+\"001-026/l2/kmean.tif\")\n",
    "print(m.shape)\n",
    "print(m.T.shape)\n",
    "m = m.T\n",
    "\n",
    "# # Visualisation du masque\n",
    "# for z in range(0,324):\n",
    "#     plt.imshow(m[:,:,z],cmap='gray')\n",
    "#     plt.show()\n"
   ]
  },
  {
   "cell_type": "code",
   "execution_count": null,
   "metadata": {
    "collapsed": true
   },
   "outputs": [],
   "source": [
    "R = radiomics.featureextractor.RadiomicsFeaturesExtractor()\n",
    "print(R)\n",
    "R.enableAllFeatures()\n",
    "print(R.getFeatureClassNames())\n",
    "R.getFeatureNames('glcm')\n",
    "\n",
    "# Conversion array ==> simpleITK\n",
    "image = sitk.GetImageFromArray(voxel_ndarray)\n",
    "mask = sitk.GetImageFromArray(m)"
   ]
  },
  {
   "cell_type": "code",
   "execution_count": null,
   "metadata": {
    "collapsed": true
   },
   "outputs": [],
   "source": [
    "F = radiomics.glcm.RadiomicsGLCM(image, mask)\n",
    "F.getContrastFeatureValue()"
   ]
  },
  {
   "cell_type": "markdown",
   "metadata": {
    "collapsed": true
   },
   "source": [
    "Test extraction masque 2.5"
   ]
  },
  {
   "cell_type": "code",
   "execution_count": null,
   "metadata": {
    "collapsed": true,
    "scrolled": false
   },
   "outputs": [],
   "source": [
    "DOSSIER_MASK = []\n",
    "for dirpath,dirnames,filenames in os.walk(path+\"001-026/l2/40\"):\n",
    "    for file in filenames:\n",
    "        DOSSIER_MASK.append(os.path.join(dirpath,file))\n",
    "        \n",
    "#Prendre dimensions des images\n",
    "DOSSIER = []\n",
    "for dirpath,dirnames,filenames in os.walk(path+\"001-026/dcm\"):\n",
    "    for file in filenames:\n",
    "        DOSSIER.append(os.path.join(dirpath,file))\n",
    "f = dicom.read_file(DOSSIER[0])\n",
    "I=f.pixel_array\n",
    "s = np.shape(I)\n",
    "\n",
    "for i in DOSSIER_MASK:\n",
    "    m = np.zeros(s)\n",
    "    file = open(i)\n",
    "    file.readline()\n",
    "    file.readline()\n",
    "    file.readline()\n",
    "    for x in range(s[0]):\n",
    "        for y in range(s[1]):\n",
    "            r = file.read(1)\n",
    "            while (r!='0' and r!='1'):\n",
    "                r = file.read(1)\n",
    "            r = float(r)\n",
    "            if r!=0:\n",
    "                m[x,y]=r\n",
    "                \n",
    "    flag=0            \n",
    "    for y in range(168):\n",
    "        for x in range(168):\n",
    "            if m[x,y]==1:\n",
    "                flag = 1\n",
    "    if flag==1:\n",
    "        plt.imshow(m, cmap='gray')\n",
    "        plt.show()"
   ]
  },
  {
   "cell_type": "code",
   "execution_count": null,
   "metadata": {
    "collapsed": true
   },
   "outputs": [],
   "source": [
    "# Test avec fonction de francois\n",
    "\n",
    "def getWords(text):\n",
    "    return re.compile('\\w+').findall(text)\n",
    "\n",
    "\n",
    "\n",
    "list_pileFiles = []\n",
    "for dirpath,dirnames,fileNames in os.walk(path+\"001-026/l2/40\"):\n",
    "    for file in fileNames:\n",
    "        list_pileFiles.append(os.path.join(dirpath,file))\n",
    "list_pileFilesAsArray = []\n",
    "    \n",
    "first_file = list_pileFiles[0]\n",
    "#get the shape of the image\n",
    "with open(first_file, mode='r', encoding='utf-8') as file:\n",
    "    file.readline()#first line junk data\n",
    "    shapeLocalMask = getWords(file.readline()) #secondline is shape of the dcm pile\n",
    "    xShape = int(shapeLocalMask[0])\n",
    "    yShape = int(shapeLocalMask[1])\n",
    "    mask_size = (xShape, yShape)\n",
    "    \n",
    "num_file = len(list_pileFiles)\n",
    "mask_array = np.zeros((num_file, xShape, yShape))\n",
    "fileIndex = 0\n",
    "for pileFile in list_pileFiles:\n",
    "    with open(pileFile, mode='r', encoding='utf-8') as file:\n",
    "        file.readline() #junk line\n",
    "        file.readline() #secondline is shape of the dcm pile\n",
    "        file.readline() # 3 lines of junk data\n",
    "        for rowIndex in range(xShape):\n",
    "            for colIndex in range(yShape):\n",
    "                val = file.read(1)\n",
    "                while (val!='0' and val!='1'):\n",
    "                    val = file.read(1)\n",
    "                mask_array[fileIndex,rowIndex, colIndex] = int(val)\n",
    "        fileIndex = fileIndex + 1"
   ]
  },
  {
   "cell_type": "code",
   "execution_count": null,
   "metadata": {
    "collapsed": true
   },
   "outputs": [],
   "source": [
    "print(mask_array.shape)\n",
    "print(m.shape)"
   ]
  },
  {
   "cell_type": "code",
   "execution_count": null,
   "metadata": {
    "collapsed": true,
    "scrolled": false
   },
   "outputs": [],
   "source": [
    "for i in range (mask_array.shape[0]):\n",
    "    flag=0            \n",
    "    for y in range(168):\n",
    "        for x in range(168):\n",
    "            if mask_array[325-i,x,y]==1:\n",
    "                flag = 1\n",
    "    if flag==1:\n",
    "        plt.imshow(mask_array[325-i, :, :], cmap='gray')\n",
    "        plt.show()\n",
    "    "
   ]
  },
  {
   "cell_type": "code",
   "execution_count": null,
   "metadata": {
    "collapsed": true
   },
   "outputs": [],
   "source": [
    "mkmean = io.imread(path+\"001-026/l2/kmean.tif\")\n",
    "print(mkmean.shape)\n",
    "for i in range (mkmean.shape[0]):\n",
    "    flag=0            \n",
    "    for y in range(168):\n",
    "        for x in range(168):\n",
    "            if mkmean[i,x,y]==1:\n",
    "                flag = 1\n",
    "    if flag==1:\n",
    "        plt.imshow(mkmean[i, :, :], cmap='gray')\n",
    "        plt.show()"
   ]
  },
  {
   "cell_type": "code",
   "execution_count": null,
   "metadata": {
    "collapsed": true
   },
   "outputs": [],
   "source": []
  }
 ],
 "metadata": {
  "kernelspec": {
   "display_name": "Python 3",
   "language": "python",
   "name": "python3"
  },
  "language_info": {
   "codemirror_mode": {
    "name": "ipython",
    "version": 3
   },
   "file_extension": ".py",
   "mimetype": "text/x-python",
   "name": "python",
   "nbconvert_exporter": "python",
   "pygments_lexer": "ipython3",
   "version": "3.6.2"
  }
 },
 "nbformat": 4,
 "nbformat_minor": 2
}
