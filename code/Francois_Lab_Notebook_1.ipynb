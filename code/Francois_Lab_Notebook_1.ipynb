{
 "cells": [
  {
   "cell_type": "markdown",
   "metadata": {},
   "source": [
    "# François' Dev Notebook 1\n"
   ]
  },
  {
   "cell_type": "markdown",
   "metadata": {},
   "source": [
    "### Un pipe mimimaliste\n",
    "L'objectif de ce notebook est de mettre en place un pipe qui prenne en input un jeu de données patient avec chacun une pile de dicom et un filtre assoscié afin d'en extraire les features."
   ]
  },
  {
   "cell_type": "code",
   "execution_count": 1,
   "metadata": {
    "collapsed": true
   },
   "outputs": [],
   "source": [
    "import numpy as np\n",
    "from matplotlib import pyplot as plt\n",
    "from mpl_toolkits.mplot3d import Axes3D\n",
    "import cv2\n",
    "import dicom\n",
    "import dicom_numpy\n",
    "import os\n",
    "import radiomics\n",
    "from skimage import io\n",
    "import SimpleITK as sitk\n",
    "import collections\n",
    "import re\n",
    "from skimage.external import tifffile"
   ]
  },
  {
   "cell_type": "code",
   "execution_count": 2,
   "metadata": {
    "collapsed": true
   },
   "outputs": [],
   "source": [
    "PATH_TO_DATA  = \"C:/Users/mathi_000/jupyter/Projet/data/\""
   ]
  },
  {
   "cell_type": "markdown",
   "metadata": {},
   "source": [
    "Structure du dossier data :\n",
    "- xxx-xxx, correspond à un dossier patient (DP), plusieurs DP dans le dossier data\n",
    "    - dcm, dossier contenant la pile d'image dicom du patient\n",
    "    - lx, dossier contenant les lables des lésions du patients, un patient peut présenter plusieurs lésions. Chaque combinaison label-dcm fait l'objet d'un input différent. Dans un dossier patient, les dossier lésions respectent la forme l1, l2, .., ln où n est le nombre de lésions du patient.\n",
    "        - 2.5 dossier contenant les piles de masques 2.5\n",
    "        - 40 dossier contenant les piles de masques 40\n",
    "        - kmean.tif fichier masque kmean. \n",
    "        \n",
    "Pseudo code du pipeline de traitement:"
   ]
  },
  {
   "cell_type": "markdown",
   "metadata": {},
   "source": [
    "# H1 High level\n",
    "\n",
    "``` \n",
    "Pour chaque patients:\n",
    "    Ouvrir son dossier patient ( dossier à la nomenclature standardisé)\n",
    "    Pour chaque lésions:\n",
    "        Construction d'un masque par vote majoriatire à partir des 3 masques (kmean, 2.5, 40)\n",
    "        Appliquer le masque à la pile de dicom\n",
    "        extraire les caractéristiques pyradiomics de la lésion\n",
    "```\n",
    "\n",
    "## H2 mid level\n",
    "\n",
    "```\n",
    "Pour chaque dossier patient dans le dossier data:\n",
    "    Créer un objet patient\n",
    "    Pour chaque dossier lésions dans le dossier patient:\n",
    "        Créer un objet lésion\n",
    "        Construire mask par méthode du vote majoritaire sur les 3 masques existants\n",
    "        Superposer le masque et la pile d'image dcm\n",
    "        Extraire les caractéristiques radiomics de la lésion\n",
    "        ajouter les caractéristiques voulues à l'objet lésion\n",
    "```\n",
    "\n",
    "### H3 low level\n",
    "\n",
    "```\n",
    "Pour chaque dossier dans le dossier data:\n",
    "    Instancier un objet patient avec list_lesions vide\n",
    "    ajouter le patient à la liste de patients\n",
    "    Ouvrir le dossier dcm du dossier patient:\n",
    "        convertir la pile DCM sous la forme d'un voxel ndarray puis d'un sITK\n",
    "        Ajouter le sITK créer comme attribut image du patient\n",
    "    Pour chaque dosier dans le dossier patient:\n",
    "        Si le dossier a pour nom 'lx' avec x un entier:\n",
    "            Instancier un nouvel objet lésion:\n",
    "               Mettre l'attribut nom de la lésion comme le nom du dossier lx\n",
    "               Création du masque retenue par vote majoriateire\n",
    "               Mettre l'attribut mask de la lesions sous la forme d'un sITK\n",
    "            Superposer le masque et la lésion\n",
    "            Extraire les caractéristiques radiomics de la superposition\n",
    "            Set l'attribut features de la lesions\n",
    "            \n",
    "    \n",
    "    \n",
    "```"
   ]
  },
  {
   "cell_type": "markdown",
   "metadata": {},
   "source": [
    "## Quelques fonctions intermédiaires\n",
    "\n",
    "### Fonction dcmToSimpleITK\n",
    "Pour traiter une pile de dicom et en donner une image simpleITK qui peut être utilisé par pyradiomics\n",
    "\n",
    "### Fonction majorityVote\n",
    "A partir de 3 masques au format .tif, retourne le filtre sélectionné par la méthode du vote majoritaire, ce masque est retournée sous forme d'une image simpleITK qui peut être utilisé par pyradiomics\n",
    "\n",
    "### Fonction getTifMasks\n",
    "A partir d'un dossier lésion, la fonction getTifMasks renvoie les 3 masques 40, 2.5 et kmean au format .tif \n",
    "\n",
    "### Fonction makeTifFromPile \n",
    "A partir d'une pile de masque, la fonction makeTifFromPile créer un masque au format.tif et le place dans le dossier racine de la lésion. Cette fonction prend en entrée le chemin vers la pile de fichiers à convertir en .tif. makeTifFromPile retourne le chemin vers le nouveau masque au format tif créé"
   ]
  },
  {
   "cell_type": "code",
   "execution_count": 3,
   "metadata": {
    "collapsed": true
   },
   "outputs": [],
   "source": [
    "def dcmToSimpleITK(dcmDirectory):\n",
    "    '''Return sITK type image from a pile of dcm files'''\n",
    "    list_dcmFiles = []\n",
    "    for directory, subDirectory, list_dcmFileNames in os.walk(dcmDirectory):\n",
    "        for dcmFile in list_dcmFileNames:\n",
    "            list_dcmFiles.append(os.path.join(directory, dcmFile))\n",
    "    dcmImage = [dicom.read_file(file) for file in list_dcmFiles]\n",
    "    voxel_ndarray, ijk_to_xyz = dicom_numpy.combine_slices(dcmImage)\n",
    "    sITK_image = sitk.GetImageFromArray(voxel_ndarray)\n",
    "    return(sITK_image)\n",
    "    "
   ]
  },
  {
   "cell_type": "markdown",
   "metadata": {},
   "source": [
    "### getTifMasks implementation \n",
    "\n",
    "Cas nominal : les filtres 2.5 et 40 sont sous formes de piles. Dans les cas où ils ont été retravaillé il faut prendre les filtres  .tiff\n",
    "\n",
    "\n",
    "#1 high level implementation\n",
    "\n",
    "```\n",
    "    Ouverture du dossier lésion:\n",
    "    Si le filtre 2.5 et/ou 40 est en .tif sélectionner ces tifs\n",
    "    Sinon ouvrir les dossiers 40 et 2.5\n",
    "        convertir les piles en .tif\n",
    "    retourner les 3 masques en .tif\n",
    "    \n",
    "```\n",
    "#2 Fonction intermediaire getTifMasks\n",
    "```\n",
    "Ouverture du dossier lesion:\n",
    "\n",
    "Si il existe un fichier 25.tif:\n",
    "    assigner le chemin vers ce fichier à la variable pathToMask25Tif\n",
    "Sinon ouvrir le dossier 25:\n",
    "    construire .tif à partir de la pile\n",
    "    assigner le chemin vers ce fichier à la variable pathToMask25Tif\n",
    "    \n",
    "Si il existe un fichier 40.tif:\n",
    "    assigner le chemin vers ce fichier à la variable pathToMask40Tif\n",
    "Sinon ouvrir les dossiers 40 \n",
    "    construire .tif à partir de la pile\n",
    "    assigner le chemin vers ce fichier à la variable pathToMask40Tif\n",
    "    \n",
    "retourner les 3 masques en .tif\n",
    "```"
   ]
  },
  {
   "cell_type": "code",
   "execution_count": 4,
   "metadata": {
    "collapsed": true
   },
   "outputs": [],
   "source": [
    "def getTifMasks(masksPath):\n",
    "    '''Return path toward the KMean, 40 and 2.5 mask respectively in this order'''\n",
    "    list_files = [file for file in os.listdir(masksPath) if os.path.isfile(os.path.join(masksPath, file))]\n",
    "    mask40Name = '40.tif' # /!\\ Noms des filtres à valdier avec Thomas \n",
    "    mask25Name = '25.tif' #--> s'appellent-ils comme ça si ils ont été remodifié ?\n",
    "    pathToKmeanMask = masksPath + '/kmean.tif'\n",
    "    if mask40Name in list_files:\n",
    "        #pathTo40Mask = masksPath + '/' + mask40Name\n",
    "        pathTo40Mask = os.path.join(masksPath, mask40Name)\n",
    "        print(pathTo40Mask)\n",
    "    else:\n",
    "        pathTo40Mask = makeTifFromPile(os.path.join(masksPath, \"40\"))\n",
    "    if mask25Name in list_files:\n",
    "        #pathTo25Mask = masksPath + '/' + mask25Name\n",
    "        pathTo25Mask = os.path.join(masksPath, mask25Name)\n",
    "    else:\n",
    "        pathTo25Mask = makeTifFromPile(os.path.join(masksPath, '2.5'))\n",
    "    return(pathToKmeanMask, pathTo40Mask, pathTo25Mask)"
   ]
  },
  {
   "cell_type": "code",
   "execution_count": 5,
   "metadata": {
    "collapsed": true
   },
   "outputs": [],
   "source": [
    "def getWords(text):\n",
    "    return re.compile('\\w+').findall(text)"
   ]
  },
  {
   "cell_type": "code",
   "execution_count": 6,
   "metadata": {
    "collapsed": true
   },
   "outputs": [],
   "source": [
    "def makeTifFromPile(pathToPile):\n",
    "    '''Takes an absoulte path containing a pile of masks, compute the resulting .tif mask and output the path to the created .tif mask '''\n",
    "    list_pileFiles = []\n",
    "    for dirpath,dirnames,fileNames in os.walk(pathToPile):\n",
    "        for file in fileNames:\n",
    "            list_pileFiles.append(os.path.join(dirpath,file))\n",
    "    list_pileFilesAsArray = []\n",
    "    \n",
    "    first_file = list_pileFiles[0]\n",
    "    #get the shape of the image\n",
    "    with open(first_file, mode='r', encoding='utf-8') as file:\n",
    "        file.readline()#first line junk data\n",
    "        shapeLocalMask = getWords(file.readline()) #secondline is shape of the dcm pile\n",
    "        xShape = int(shapeLocalMask[0])\n",
    "        yShape = int(shapeLocalMask[1])\n",
    "        mask_size = (xShape, yShape)\n",
    "    \n",
    "    num_file = len(list_pileFiles)\n",
    "    mask_array = np.zeros((num_file, xShape, yShape))\n",
    "    fileIndex = num_file-1\n",
    "    for pileFile in list_pileFiles:\n",
    "        with open(pileFile, mode='r', encoding='utf-8') as file:\n",
    "            file.readline() #junk line\n",
    "            file.readline() #secondline is shape of the dcm pile\n",
    "            file.readline() # 3 lines of junk data\n",
    "            for rowIndex in range(xShape):\n",
    "                for colIndex in range(yShape):\n",
    "                    val = file.read(1)\n",
    "                    while (val!='0' and val!='1'):\n",
    "                        val = file.read(1)\n",
    "                    mask_array[fileIndex,rowIndex, colIndex] = int(val)\n",
    "            fileIndex = fileIndex - 1\n",
    "\n",
    "    pathToLesion = os.path.abspath(os.path.join(pathToPile, os.pardir))\n",
    "\n",
    "    if('2.5' in pathToPile):\n",
    "        #pathToTifMask = pathToLesion + '/25.tif'\n",
    "        pathToTifMask = os.path.join(pathToLesion,'25.tif')\n",
    "    if('40' in pathToPile):\n",
    "        #pathToTifMask = pathToLesion + '/40.tif'\n",
    "        pathToTifMask = os.path.join(pathToLesion, '40.tif')\n",
    "        \n",
    "    tifffile.imsave(pathToTifMask, mask_array)\n",
    "    return pathToTifMask"
   ]
  },
  {
   "cell_type": "code",
   "execution_count": 8,
   "metadata": {},
   "outputs": [
    {
     "data": {
      "text/plain": [
       "('C:/Users/mathi_000/jupyter/Projet/data/001-026/l2/kmean.tif',\n",
       " 'C:\\\\Users\\\\mathi_000\\\\jupyter\\\\Projet\\\\data\\\\001-026\\\\l2\\\\40.tif',\n",
       " 'C:\\\\Users\\\\mathi_000\\\\jupyter\\\\Projet\\\\data\\\\001-026\\\\l2\\\\25.tif')"
      ]
     },
     "execution_count": 8,
     "metadata": {},
     "output_type": "execute_result"
    }
   ],
   "source": [
    "masksPath = PATH_TO_DATA + \"001-026/l2\"\n",
    "getTifMasks(masksPath)"
   ]
  },
  {
   "cell_type": "code",
   "execution_count": 9,
   "metadata": {},
   "outputs": [],
   "source": [
    "maskKmean = tifffile.imread(PATH_TO_DATA + '001-026/l2/kmean.tif')\n",
    "mask40 = tifffile.imread(PATH_TO_DATA + '001-026/l2/40.tif')\n"
   ]
  },
  {
   "cell_type": "code",
   "execution_count": 10,
   "metadata": {},
   "outputs": [
    {
     "name": "stdout",
     "output_type": "stream",
     "text": [
      "Kmean :  (324, 168, 168)  \n",
      "40 :  (326, 168, 168)\n"
     ]
    }
   ],
   "source": [
    "print('Kmean : ',maskKmean.shape,' \\n40 : ', mask40.shape)"
   ]
  },
  {
   "cell_type": "markdown",
   "metadata": {},
   "source": [
    "### majorityVote implementation\n",
    "\n",
    "Le calcul du mask résultant par vote_maj se fait sur des fichiers en .tif"
   ]
  },
  {
   "cell_type": "code",
   "execution_count": 11,
   "metadata": {
    "collapsed": true
   },
   "outputs": [],
   "source": [
    "def majorityVote(masksPath):\n",
    "    '''Compute the average mask based on the majority vote method from different masks from a lesion'''\n",
    "    # CODE to build --> in a first instance i only use the kmean filter!\n",
    "    \n",
    "    # Import des 3 masques tif\n",
    "    (pathToKmeanMask, pathTo40Mask, pathTo25Mask) = getTifMasks(masksPath)\n",
    "    \n",
    "    mkmean = io.imread(pathToKmeanMask).T\n",
    "    m25 = io.imread(pathTo40Mask).T\n",
    "    m40 = io.imread(pathTo25Mask).T\n",
    "    \n",
    "    # Paramètres\n",
    "    ACCEPT = 0.45  # seuil d'acceptation pour que le voxel appartienne à la lésion ou au fond\n",
    "    nbmethods = 3  # Nombre de methodes (40%, 2.5 et kmean)\n",
    "    volVoxel = 4*4*2   # volume d'un voxel\n",
    "    \n",
    "    # Dimensions\n",
    "    imageDims=mkmean.shape\n",
    "    w=imageDims[0]   # largeur\n",
    "    h=imageDims[1]  # hauteur\n",
    "    d=imageDims[2]  # profondeur\n",
    "    m=w*h*d    # nombre de voxels par image\n",
    "    \n",
    "    # Image binaire segmentée selon vote majoritaire\n",
    "    mMajority = np.zeros(imageDims)\n",
    "    \n",
    "    for x in range(0,w):      # parcourt des lignes\n",
    "        for y in range(0,h):    # parcourt des colonnes\n",
    "            for z in range(0,d):    # parcourt profondeur\n",
    "                somme=0\n",
    "                somme = mkmean[x,y,z] + m25[x,y,z] + m40[x,y,z]\n",
    "\n",
    "                if ( float(somme)/nbmethods > ACCEPT ) : \n",
    "                       mMajority[x,y,z] = 1     # Ajout voxel dans image de sortie\n",
    "\n",
    "    sITK_mask = sitk.GetImageFromArray(mMajority)\n",
    "    \n",
    "    majorityTiffPath = os.path.join(masksPath, \"majority.tif\")\n",
    "    tifffile.imsave(majorityTiffPath, mMajority)\n",
    "    \n",
    "    return sITK_mask"
   ]
  },
  {
   "cell_type": "markdown",
   "metadata": {},
   "source": [
    "### Définition des objets Patient et Lesion"
   ]
  },
  {
   "cell_type": "code",
   "execution_count": 16,
   "metadata": {
    "collapsed": true
   },
   "outputs": [],
   "source": [
    "class Patient:\n",
    "\n",
    "    def __init__(self, ref, image=None, list_lesions=[]):\n",
    "        '''Provide ref number of the patient as a string \"xxx-xxx\", image must be simpleITK'''\n",
    "        self.ref = ref\n",
    "        self.list_lesions = list_lesions\n",
    "        dcmDirectory = os.path.join(PATH_TO_DATA, ref, \"dcm\")\n",
    "        self.image = dcmToSimpleITK(dcmDirectory)\n",
    "        "
   ]
  },
  {
   "cell_type": "code",
   "execution_count": 13,
   "metadata": {
    "collapsed": true
   },
   "outputs": [],
   "source": [
    "class Lesion:\n",
    "    \n",
    "    def __init__(self, ref, masksPath, list_features=[]):\n",
    "        '''Provide ref number as string \"lx\", where x is the number of the lesion, masksPath is the path to the folder conatining the masks'''\n",
    "        self.ref = ref\n",
    "        self.mask = majorityVote(masksPath)\n",
    "        self.list_features = list_features #la liste des features à récupérer sera à définir avec Thomas"
   ]
  },
  {
   "cell_type": "code",
   "execution_count": 14,
   "metadata": {},
   "outputs": [
    {
     "name": "stdout",
     "output_type": "stream",
     "text": [
      "Image (000001A87B9E1790)\n",
      "  RTTI typeinfo:   class itk::Image<float,3>\n",
      "  Reference Count: 1\n",
      "  Modified Time: 772\n",
      "  Debug: Off\n",
      "  Object Name: \n",
      "  Observers: \n",
      "    none\n",
      "  Source: (none)\n",
      "  Source output name: (none)\n",
      "  Release Data: Off\n",
      "  Data Released: False\n",
      "  Global Release Data: Off\n",
      "  PipelineMTime: 0\n",
      "  UpdateMTime: 0\n",
      "  RealTimeStamp: 0 seconds \n",
      "  LargestPossibleRegion: \n",
      "    Dimension: 3\n",
      "    Index: [0, 0, 0]\n",
      "    Size: [324, 168, 168]\n",
      "  BufferedRegion: \n",
      "    Dimension: 3\n",
      "    Index: [0, 0, 0]\n",
      "    Size: [324, 168, 168]\n",
      "  RequestedRegion: \n",
      "    Dimension: 3\n",
      "    Index: [0, 0, 0]\n",
      "    Size: [324, 168, 168]\n",
      "  Spacing: [1, 1, 1]\n",
      "  Origin: [0, 0, 0]\n",
      "  Direction: \n",
      "1 0 0\n",
      "0 1 0\n",
      "0 0 1\n",
      "\n",
      "  IndexToPointMatrix: \n",
      "1 0 0\n",
      "0 1 0\n",
      "0 0 1\n",
      "\n",
      "  PointToIndexMatrix: \n",
      "1 0 0\n",
      "0 1 0\n",
      "0 0 1\n",
      "\n",
      "  Inverse Direction: \n",
      "1 0 0\n",
      "0 1 0\n",
      "0 0 1\n",
      "\n",
      "  PixelContainer: \n",
      "    ImportImageContainer (000001A87DB3E540)\n",
      "      RTTI typeinfo:   class itk::ImportImageContainer<unsigned __int64,float>\n",
      "      Reference Count: 1\n",
      "      Modified Time: 773\n",
      "      Debug: Off\n",
      "      Object Name: \n",
      "      Observers: \n",
      "        none\n",
      "      Pointer: 000001A80A916040\n",
      "      Container manages memory: true\n",
      "      Size: 9144576\n",
      "      Capacity: 9144576\n",
      "\n"
     ]
    }
   ],
   "source": [
    "#test\n",
    "\n",
    "patient1 = Patient(\"001-026\")\n",
    "patient1.ref\n",
    "patient1.image\n",
    "print(patient1.image)\n",
    "\n",
    "# l1 = Lesion('l1')\n",
    "# print(\"Lesion %s\" % l1.ref)"
   ]
  },
  {
   "cell_type": "markdown",
   "metadata": {},
   "source": [
    "## Pipeline pour l'extraction automatisée de features\n",
    "A partir d'un dossier de patients suivant une architecture standardisée"
   ]
  },
  {
   "cell_type": "code",
   "execution_count": 18,
   "metadata": {
    "scrolled": true
   },
   "outputs": [
    {
     "name": "stdout",
     "output_type": "stream",
     "text": [
      "Processing patient 001-026 ...\n",
      "Processing lesion l2 ...\n",
      "C:/Users/mathi_000/jupyter/Projet/data/001-026\\l2\\40.tif\n",
      "2153.98498805\n",
      "Processing lesion l3 ...\n",
      "C:/Users/mathi_000/jupyter/Projet/data/001-026\\l3\\40.tif\n",
      "6448.62624598\n",
      "Processing lesion l4 ...\n",
      "C:/Users/mathi_000/jupyter/Projet/data/001-026\\l4\\40.tif\n",
      "2631.59125874\n",
      "Processing lesion l5 ...\n",
      "C:/Users/mathi_000/jupyter/Projet/data/001-026\\l5\\40.tif\n",
      "153.541941392\n",
      "Processing lesion l6 ...\n",
      "4685.88653236\n",
      "Processing lesion l7 ...\n",
      "41668.1262238\n",
      "Processing patient 001-032 ...\n",
      "Processing patient 001-052 ...\n",
      "Processing lesion l1 ...\n",
      "822.624611367\n"
     ]
    }
   ],
   "source": [
    "list_patients = []\n",
    "for refPatient in os.listdir(PATH_TO_DATA):\n",
    "    print(\"Processing patient %s ...\" % refPatient)\n",
    "    patient = Patient(refPatient)\n",
    "    list_patients.append(patient)\n",
    "    patient.list_lesions = []\n",
    "    for directoryName in os.listdir(os.path.join(PATH_TO_DATA, patient.ref)):\n",
    "        if directoryName != 'dcm' and directoryName != []:\n",
    "            print(\"Processing lesion %s ...\" % directoryName)\n",
    "            masksPath = os.path.join(PATH_TO_DATA, refPatient, directoryName)\n",
    "            lesion = Lesion(directoryName, masksPath)\n",
    "            patient.list_lesions.append(lesion)\n",
    "            \n",
    "            #Extraction des features\n",
    "#             R = radiomics.featureextractor.RadiomicsFeaturesExtractor()\n",
    "#             R.enableAllFeatures()\n",
    "            #print(\"Features name : \", R.getFeatureClassNames())\n",
    "#             R.getFeatureNames('glcm')\n",
    "#             glcm = radiomics.glcm.RadiomicsGLCM(patient.image, lesion.mask)\n",
    "#             lesion.list_features.append(glcm)\n",
    "\n",
    "            R = radiomics.glcm.RadiomicsGLCM(patient.image, lesion.mask)\n",
    "            print(R.getAutocorrelationFeatureValue())\n",
    "            "
   ]
  },
  {
   "cell_type": "markdown",
   "metadata": {},
   "source": [
    "_NB_  : Je suppose un bug sur la lésion l1 du patient 001-026, certaines valeurs du masque doivent être incohérentes car tous les autres masques fonctionnnent. Pour mes tests, j'ai déplacé cette data dans un donnée corrupted_data"
   ]
  },
  {
   "cell_type": "code",
   "execution_count": 17,
   "metadata": {},
   "outputs": [
    {
     "name": "stdout",
     "output_type": "stream",
     "text": [
      "Patient 001-026\n",
      "lesion l2\n",
      "Autocorrelation : 2153.984988\n",
      "lesion l3\n",
      "Autocorrelation : 2153.984988\n",
      "lesion l4\n",
      "Autocorrelation : 2153.984988\n",
      "\n",
      "\n"
     ]
    }
   ],
   "source": [
    "for patient in list_patients:\n",
    "    print(\"Patient %s\" % patient.ref)\n",
    "    for lesion in patient.list_lesions:\n",
    "        print('lesion %s' % lesion.ref)\n",
    "        print('Autocorrelation : %f' % lesion.list_features[0].getAutocorrelationFeatureValue())\n",
    "    print('\\n')\n",
    "    "
   ]
  },
  {
   "cell_type": "markdown",
   "metadata": {},
   "source": [
    "#### Création du masque\n",
    " Attention aux dimensions, être sûr de bien reconnaître l'indice des axes x, y, z."
   ]
  },
  {
   "cell_type": "code",
   "execution_count": null,
   "metadata": {
    "collapsed": true
   },
   "outputs": [],
   "source": []
  }
 ],
 "metadata": {
  "kernelspec": {
   "display_name": "Python 3",
   "language": "python",
   "name": "python3"
  },
  "language_info": {
   "codemirror_mode": {
    "name": "ipython",
    "version": 3
   },
   "file_extension": ".py",
   "mimetype": "text/x-python",
   "name": "python",
   "nbconvert_exporter": "python",
   "pygments_lexer": "ipython3",
   "version": "3.6.2"
  }
 },
 "nbformat": 4,
 "nbformat_minor": 2
}
