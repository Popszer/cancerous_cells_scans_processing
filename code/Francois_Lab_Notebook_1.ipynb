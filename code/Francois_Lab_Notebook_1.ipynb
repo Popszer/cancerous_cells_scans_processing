{
 "cells": [
  {
   "cell_type": "markdown",
   "metadata": {},
   "source": [
    "# François' Dev Notebook 1\n"
   ]
  },
  {
   "cell_type": "markdown",
   "metadata": {},
   "source": [
    "### Un pipe mimimaliste\n",
    "L'objectif de ce notebook est de mettre en place un pipe qui prenne en input un jeu de données patient avec chacun une pile de dicom et un filtre assoscié afin d'en extraire les features."
   ]
  },
  {
   "cell_type": "markdown",
   "metadata": {},
   "source": [
    "### Low level implementation scheme\n",
    "\n",
    "```\n",
    "Pour chaque dossier dans le dossier data:\n",
    "    Instancier un objet patient avec list_lesions vide\n",
    "    ajouter le patient à la liste de patients\n",
    "    Ouvrir le dossier dcm du dossier patient:\n",
    "        convertir la pile DCM sous la forme d'un voxel ndarray puis d'un sITK\n",
    "        Ajouter le sITK créer comme attribut image du patient\n",
    "    Pour chaque dosier dans le dossier patient:\n",
    "        Si le dossier a pour nom 'lx' avec x un entier:\n",
    "            Instancier un nouvel objet lésion:\n",
    "               Mettre l'attribut nom de la lésion comme le nom du dossier lx\n",
    "               Création du masque retenue par vote majoriateire\n",
    "               Mettre l'attribut mask de la lesions sous la forme d'un sITK\n",
    "            Superposer le masque et la lésion\n",
    "            Extraire les caractéristiques radiomics de la superposition\n",
    "            Set l'attribut features de la lesions\n",
    "            \n",
    "    \n",
    "    \n",
    "```"
   ]
  },
  {
   "cell_type": "code",
   "execution_count": 1,
   "metadata": {
    "collapsed": true
   },
   "outputs": [],
   "source": [
    "import numpy as np\n",
    "import dicom\n",
    "import dicom_numpy\n",
    "import os\n",
    "from radiomics import featureextractor\n",
    "from skimage import io\n",
    "import SimpleITK as sitk\n",
    "import six\n",
    "import re\n",
    "from skimage.external import tifffile"
   ]
  },
  {
   "cell_type": "code",
   "execution_count": 2,
   "metadata": {
    "collapsed": true
   },
   "outputs": [],
   "source": [
    "PATH_TO_DATA  = \"/Users/pops/Documents/ecn/projet/MYELOME/\" "
   ]
  },
  {
   "cell_type": "markdown",
   "metadata": {},
   "source": [
    "## Quelques fonctions intermédiaires \n",
    "--> a déplacer dans un fichier utils que l'on appelera depuis le fichier principale\n",
    "\n",
    "### Fonction dcmToSimpleITK\n",
    "Pour traiter une pile de dicom et en donner une image simpleITK qui peut être utilisé par pyradiomics\n",
    "\n",
    "### Fonction majorityVote\n",
    "A partir de 3 masques au format .tif, retourne le filtre sélectionné par la méthode du vote majoritaire, ce masque est retournée sous forme d'une image simpleITK qui peut être utilisé par pyradiomics\n",
    "\n",
    "### Fonction getTifMasks\n",
    "A partir d'un dossier lésion, la fonction getTifMasks renvoie les 3 masques 40, 2.5 et kmean au format .tif \n",
    "\n",
    "### Fonction makeTifFromPile \n",
    "A partir d'une pile de masque, la fonction makeTifFromPile créer un masque au format.tif et le place dans le dossier racine de la lésion. Cette fonction prend en entrée le chemin vers la pile de fichiers à convertir en .tif. makeTifFromPile retourne le chemin vers le nouveau masque au format tif créé"
   ]
  },
  {
   "cell_type": "code",
   "execution_count": 44,
   "metadata": {
    "collapsed": true
   },
   "outputs": [],
   "source": [
    "def multiplySlice(scalar, pathToDcmSlice):\n",
    "    '''Take a scalar value and a string corresponding to the complete path (filename included) of a dcm slice. \n",
    "    Multiply all pixels in the slice per the scalar value and save the slice under the same slice name.\n",
    "    Warning : saving erase the original data by the new multiplied ones'''\n",
    "    \n",
    "    dcmSlice = dicom.read_file(pathToDcmSlice)\n",
    "    \n",
    "    for n,val in enumerate(dcmSlice.pixel_array.flat): \n",
    "        dcmSlice.pixel_array.flat[n] = scalar * dcmSlice.pixel_array.flat[n];\n",
    "        \n",
    "    dcmSlice.PixelData = dcmSlice.pixel_array.tostring()\n",
    "    dcmSlice.save_as(pathToDcmSlice)"
   ]
  },
  {
   "cell_type": "code",
   "execution_count": 45,
   "metadata": {
    "collapsed": true
   },
   "outputs": [],
   "source": [
    "def isSliceUnitSUV(dcmSlice):\n",
    "    '''Take a dcm slice in input and returns true if the voxels are expressed in SUV - Standardized uptake value.\n",
    "    Return false otherwise.'''\n",
    "    \n",
    "    #00541001 corresponds to the tag index of the unit in the dcm file\n",
    "    units = dcmSlice[0x00541001].value.lower() \n",
    "    unitIsSUV = \"suv\" in units\n",
    "    \n",
    "    if unitIsSUV:\n",
    "        return True\n",
    "    else:\n",
    "        return False"
   ]
  },
  {
   "cell_type": "code",
   "execution_count": 46,
   "metadata": {},
   "outputs": [
    {
     "ename": "SyntaxError",
     "evalue": "invalid syntax (<ipython-input-46-701106ed0eb7>, line 33)",
     "output_type": "error",
     "traceback": [
      "\u001b[0;36m  File \u001b[0;32m\"<ipython-input-46-701106ed0eb7>\"\u001b[0;36m, line \u001b[0;32m33\u001b[0m\n\u001b[0;31m    pixel_array = pixel_array*\u001b[0m\n\u001b[0m                              ^\u001b[0m\n\u001b[0;31mSyntaxError\u001b[0m\u001b[0;31m:\u001b[0m invalid syntax\n"
     ]
    }
   ],
   "source": [
    "def convertToSUV(dcmDirectory):\n",
    "    '''Convert a pile of dcm file to the SUV unit - logic herited from Thomas' macro MacroBqtToSUV '''\n",
    "    list_dcmFiles = []\n",
    "    for directory, subDirectory, list_dcmFileNames in os.walk(dcmDirectory):\n",
    "        for dcmFile in list_dcmFileNames:\n",
    "            list_dcmFiles.append(os.path.join(directory, dcmFile))\n",
    "    list_dcmSlices = [dicom.read_file(file) for file in list_dcmFiles]\n",
    "    dcmSlice = list_dcmSlices[0]\n",
    "    \n",
    "    # Get infos from the patient dcm tags\n",
    "    acquisitionHour = int(dcmSlice[0x00080031].value[0:2])\n",
    "    acquisitionMinute = int(dcmSlice[0x00080031].value[2:4])\n",
    "    injectionHour = int(dcmSlice[0x00540016].value[0][0x00181072].value[0:2])\n",
    "    injectionMinute = int(dcmSlice[0x00540016].value[0][0x00181072].value[2:4])\n",
    "    \n",
    "    deltaHour = acquisitionHour - injectionHour\n",
    "    deltaMinute = acquisitionMinute - injectionMinute\n",
    "\n",
    "    \n",
    "    # Compute the suvFactor\n",
    "    manufacturer = dcmSlice[0x00080070].value.lower()\n",
    "    manufacturerIsPhilips = \"philips\" in manufacturer\n",
    "    \n",
    "    units = dcmSlice[0x00541001].value.lower()\n",
    "    unitIsNotBqml = \"bqml\" not in units\n",
    "    \n",
    "    if (manufacturerIsPhilips) and (unitIsNotBqml):\n",
    "        suvfactor = float(dcmSlice[0x70531000].value)\n",
    "    else:\n",
    "        for localDcmSlice in list_dcmSlices:\n",
    "            rescaleSlope = float(dcmSlice[0x00281053].value)\n",
    "            \n",
    "            \n",
    "    \n",
    "    suvFactor = 1\n",
    "    return suvFactor"
   ]
  },
  {
   "cell_type": "markdown",
   "metadata": {},
   "source": [
    "Pipe de conversion en Suv\n",
    "\n",
    "Lors de l'ouverture de la pile de dicom du patient :\n",
    "    - Controle l'unité de la pile de dcm\n",
    "    Si c'est bonne unité on continue le pipe, sinon on rescale \n",
    "    \n",
    "On parcourt chaque \n",
    "    \n",
    "\n",
    "Transformation d'une pile en dcm \n",
    "    "
   ]
  },
  {
   "cell_type": "code",
   "execution_count": 42,
   "metadata": {
    "scrolled": false
   },
   "outputs": [
    {
     "name": "stdout",
     "output_type": "stream",
     "text": [
      "PatientAnonyme_20110728151314 1\n",
      "(0010, 0010) Patient's Name                      PN: 'PatientAnonyme_20110728151314'\n",
      "(0018, 0050) Slice Thickness                     DS: '4'\n",
      "(0008, 0005) Specific Character Set              CS: 'ISO_IR 100'\n",
      "(0008, 0008) Image Type                          CS: ['ORIGINAL', 'PRIMARY']\n",
      "(0008, 0016) SOP Class UID                       UI: Positron Emission Tomography Image Storage\n",
      "(0008, 0018) SOP Instance UID                    UI: 1.3.46.670589.28.2.15.2199422639.3.82.0.1306774780\n",
      "(0008, 0020) Study Date                          DA: '20110530'\n",
      "(0008, 0021) Series Date                         DA: '20110530'\n",
      "(0008, 0022) Acquisition Date                    DA: '20110530'\n",
      "(0008, 0023) Content Date                        DA: '20110530'\n",
      "(0008, 0030) Study Time                          TM: '171318.000000'\n",
      "(0008, 0031) Series Time                         TM: '171318.000000'\n",
      "(0008, 0032) Acquisition Time                    TM: '171318.000000'\n",
      "(0008, 0033) Content Time                        TM: '171318.000000'\n",
      "(0008, 0050) Accession Number                    SH: ''\n",
      "(0008, 0060) Modality                            CS: 'PT'\n",
      "(0008, 0070) Manufacturer                        LO: 'Philips Medical Systems'\n",
      "(0008, 0080) Institution Name                    LO: 'Médecine Nucléaire Bretonneau'\n",
      "(0008, 0090) Referring Physician's Name          PN: '1070^Hemato.Ther.Cell.Hc'\n",
      "(0008, 1010) Station Name                        SH: 'g093-svr'\n",
      "(0008, 1030) Study Description                   LO: '*TEP-18F-FDG-CE (Scinti.)'\n",
      "(0008, 1032)  Procedure Code Sequence   1 item(s) ---- \n",
      "   (0008, 0100) Code Value                          SH: 'TEPENT'\n",
      "   (0008, 0102) Coding Scheme Designator            SH: 'C'\n",
      "   (0008, 0104) Code Meaning                        LO: 'Injection TEP corps entier'\n",
      "   ---------\n",
      "(0008, 103e) Series Description                  LO: 'p11264s0_AGA_ctac.img: 3D-RAMLA'\n",
      "(0008, 1090) Manufacturer's Model Name           LO: 'Allegro Body(C)'\n",
      "(0008, 1110)  Referenced Study Sequence   1 item(s) ---- \n",
      "   (0008, 1150) Referenced SOP Class UID            UI: Detached Study Management SOP Class\n",
      "   (0008, 1155) Referenced SOP Instance UID         UI: 2.16.840.1.113669.632.20.370001.10001400173\n",
      "   ---------\n",
      "(0008, 1111)  Referenced Performed Procedure Step Sequence   1 item(s) ---- \n",
      "   (0008, 1150) Referenced SOP Class UID            UI: Modality Performed Procedure Step SOP Class\n",
      "   (0008, 1155) Referenced SOP Instance UID         UI: 1.2.840.113704.1.111.2848.1306767582.2\n",
      "   ---------\n",
      "(0008, 2111) Derivation Description              ST: '3:1 JPEGLOSSLESSPROCFIRSTORDERREDICT, Decompress Pegasus JPEG Lossless'\n",
      "(0010, 0010) Patient's Name                      PN: 'PatientAnonyme_20110728151314'\n",
      "(0010, 0020) Patient ID                          LO: '20110728151314'\n",
      "(0010, 0030) Patient's Birth Date                DA: '19650106'\n",
      "(0010, 0040) Patient's Sex                       CS: 'F'\n",
      "(0010, 1010) Patient's Age                       AS: '046Y'\n",
      "(0010, 1030) Patient's Weight                    DS: '65'\n",
      "(0018, 0050) Slice Thickness                     DS: '4'\n",
      "(0018, 1000) Device Serial Number                LO: '11264'\n",
      "(0018, 1020) Software Version(s)                 LO: ['9.1.0.', 'PMSPT1.44']\n",
      "(0018, 1030) Protocol Name                       LO: 'TOURS CE VARIABLE 9P'\n",
      "(0018, 1100) Reconstruction Diameter             DS: '576'\n",
      "(0018, 1147) Field of View Shape                 CS: 'CYLINDRICAL RING'\n",
      "(0018, 1149) Field of View Dimension(s)          IS: ['864', '180']\n",
      "(0018, 1181) Collimator Type                     CS: 'NONE'\n",
      "(0018, 1242) Actual Frame Duration               IS: '180000'\n",
      "(0018, 5100) Patient Position                    CS: 'HFS'\n",
      "(0020, 000d) Study Instance UID                  UI: 1.2.840.113711.17041813.3.2096.333286397.26.248614862.3122\n",
      "(0020, 000e) Series Instance UID                 UI: 1.3.46.670589.28.2.7.2199422639.2.85.0.1306774782\n",
      "(0020, 0010) Study ID                            SH: 'A10176817432'\n",
      "(0020, 0011) Series Number                       IS: '747820'\n",
      "(0020, 0013) Instance Number                     IS: '423'\n",
      "(0020, 0032) Image Position (Patient)            DS: ['-286.585938', '-216.585938', '1819.162964']\n",
      "(0020, 0037) Image Orientation (Patient)         DS: ['1', '0', '0', '0', '1', '0']\n",
      "(0020, 0052) Frame of Reference UID              UI: 1.2.840.113704.1.111.2848.1306767951.6\n",
      "(0020, 1040) Position Reference Indicator        LO: ''\n",
      "(0028, 0002) Samples per Pixel                   US: 1\n",
      "(0028, 0004) Photometric Interpretation          CS: 'MONOCHROME2'\n",
      "(0028, 0010) Rows                                US: 144\n",
      "(0028, 0011) Columns                             US: 144\n",
      "(0028, 0030) Pixel Spacing                       DS: ['4', '4']\n",
      "(0028, 0051) Corrected Image                     CS: ['DECY', 'RADL', 'ATTN', 'SCAT', 'DTIM', 'RAN', 'NORM']\n",
      "(0028, 0100) Bits Allocated                      US: 16\n",
      "(0028, 0101) Bits Stored                         US: 16\n",
      "(0028, 0102) High Bit                            US: 15\n",
      "(0028, 0103) Pixel Representation                US: 1\n",
      "(0028, 1050) Window Center                       DS: '0'\n",
      "(0028, 1051) Window Width                        DS: '65536'\n",
      "(0028, 1052) Rescale Intercept                   DS: '0'\n",
      "(0028, 1053) Rescale Slope                       DS: '1'\n",
      "(0028, 2110) Lossy Image Compression             CS: '00'\n",
      "(0032, 1033) Requesting Service                  LO: '1070^HEMATO.THER.CELL.HC'\n",
      "(0032, 1060) Requested Procedure Description     LO: 'Injection TEP corps entier'\n",
      "(0040, 0244) Performed Procedure Step Start Date DA: '20110530'\n",
      "(0040, 0245) Performed Procedure Step Start Time TM: '165942.000000'\n",
      "(0040, 0253) Performed Procedure Step ID         SH: '1812948'\n",
      "(0040, 0254) Performed Procedure Step Descriptio LO: 'Injection TEP corps entier'\n",
      "(0040, 0260)  Performed Protocol Code Sequence   1 item(s) ---- \n",
      "   (0008, 0100) Code Value                          SH: 'TEPENT'\n",
      "   (0008, 0102) Coding Scheme Designator            SH: 'C'\n",
      "   (0008, 0104) Code Meaning                        LO: 'Injection TEP corps entier'\n",
      "   ---------\n",
      "(0040, 0275)  Request Attributes Sequence   1 item(s) ---- \n",
      "   (0040, 0007) Scheduled Procedure Step Descriptio LO: 'Injection TEP corps entier'\n",
      "   (0040, 0008)  Scheduled Protocol Code Sequence   1 item(s) ---- \n",
      "      (0008, 0100) Code Value                          SH: 'TEPENT'\n",
      "      (0008, 0102) Coding Scheme Designator            SH: 'C'\n",
      "      (0008, 0104) Code Meaning                        LO: 'Injection TEP corps entier'\n",
      "      ---------\n",
      "   (0040, 0009) Scheduled Procedure Step ID         SH: 'A10176817390'\n",
      "   (0040, 1001) Requested Procedure ID              SH: 'A10176817390'\n",
      "   ---------\n",
      "(0054, 0016)  Radiopharmaceutical Information Sequence   1 item(s) ---- \n",
      "   (0018, 0031) Radiopharmaceutical                 LO: 'Fluorodeoxyglucose F^18^'\n",
      "   (0018, 1072) Radiopharmaceutical Start Time      TM: '161500.000000'\n",
      "   (0018, 1074) Radionuclide Total Dose             DS: '231800000'\n",
      "   (0018, 1075) Radionuclide Half Life              DS: '6588'\n",
      "   (0054, 0300)  Radionuclide Code Sequence   1 item(s) ---- \n",
      "      (0008, 0100) Code Value                          SH: 'C-111A1'\n",
      "      (0008, 0102) Coding Scheme Designator            SH: 'SNM3'\n",
      "      (0008, 0104) Code Meaning                        LO: 'F^18^'\n",
      "      ---------\n",
      "   (0054, 0304)  Radiopharmaceutical Code Sequence   1 item(s) ---- \n",
      "      (0008, 0100) Code Value                          SH: 'C-B1031'\n",
      "      (0008, 0102) Coding Scheme Designator            SH: 'SNM3'\n",
      "      (0008, 0104) Code Meaning                        LO: 'Fluorodeoxyglucose F^18^'\n",
      "      ---------\n",
      "   ---------\n",
      "(0054, 0061) Number of R-R Intervals             US: 1\n",
      "(0054, 0071) Number of Time Slots                US: 1\n",
      "(0054, 0081) Number of Slices                    US: 423\n",
      "(0054, 0202) Type of Detector Motion             CS: 'NONE'\n",
      "(0054, 0410)  Patient Orientation Code Sequence   1 item(s) ---- \n",
      "   (0008, 0100) Code Value                          SH: 'F-10450'\n",
      "   (0008, 0102) Coding Scheme Designator            SH: '99SDM'\n",
      "   (0008, 0104) Code Meaning                        LO: 'recumbent'\n",
      "   (0054, 0412)  Patient Orientation Modifier Code Sequence   1 item(s) ---- \n",
      "      (0008, 0100) Code Value                          SH: 'F-10340'\n",
      "      (0008, 0102) Coding Scheme Designator            SH: '99SDM'\n",
      "      (0008, 0104) Code Meaning                        LO: 'supine'\n",
      "      ---------\n",
      "   ---------\n",
      "(0054, 0414)  Patient Gantry Relationship Code Sequence   1 item(s) ---- \n",
      "   (0008, 0100) Code Value                          SH: 'G-5190'\n",
      "   (0008, 0102) Coding Scheme Designator            SH: '99SDM'\n",
      "   (0008, 0104) Code Meaning                        LO: 'headfirst'\n",
      "   ---------\n",
      "(0054, 1000) Series Type                         CS: ['WHOLE BODY', 'IMAGE']\n",
      "(0054, 1001) Units                               CS: 'CNTS'\n",
      "(0054, 1002) Counts Source                       CS: 'EMISSION'\n",
      "(0054, 1100) Randoms Correction Method           CS: 'DLYD'\n",
      "(0054, 1101) Attenuation Correction Method       LO: 'Attenuation Cor=SS-SIMUL,'\n",
      "(0054, 1102) Decay Correction                    CS: 'START'\n",
      "(0054, 1103) Reconstruction Method               LO: '3D-RAMLA'\n",
      "(0054, 1105) Scatter Correction Method           LO: 'SS-SIMUL'\n",
      "(0054, 1300) Frame Reference Time                DS: '90000'\n",
      "(0054, 1321) Decay Factor                        DS: '1'\n",
      "(0054, 1330) Image Index                         US: 423\n",
      "(3711, 0010) Private Creator                     LO: 'A.L.I. Technologies, Inc.'\n",
      "(3711, 100c) [Original Study UID]                UI: 1.2.840.113704.1.111.2848.1306767582.1\n",
      "(7053, 0010) Private Creator                     LO: 'Philips PET Private Group'\n",
      "(7053, 1000) [SUV Scale Factor]                  DS: '0.000624'\n",
      "(7053, 1001) [Private]                           OB: Array of 8704 bytes\n",
      "(7053, 1002) [Private]                           OB: Array of 512 bytes\n",
      "(7053, 1003) [Original image file name]          ST: 'p11264s0_AGA_ctac.img'\n",
      "(7053, 1005) [Worklist Info File Name]           LO: 'p11264s0_AGA.wls'\n",
      "(7053, 1006) [Unknown]                           OB: Array of 2076 bytes\n",
      "(7fe0, 0010) Pixel Data                          OW: Array of 41472 bytes\n",
      "######## HERE ########\n"
     ]
    },
    {
     "ename": "FileNotFoundError",
     "evalue": "[Errno 2] No such file or directory: 'newfilename.dcm'",
     "output_type": "error",
     "traceback": [
      "\u001b[0;31m---------------------------------------------------------------------------\u001b[0m",
      "\u001b[0;31mFileNotFoundError\u001b[0m                         Traceback (most recent call last)",
      "\u001b[0;32m<ipython-input-42-67534a9535c7>\u001b[0m in \u001b[0;36m<module>\u001b[0;34m()\u001b[0m\n\u001b[1;32m     12\u001b[0m \u001b[0mmultiplySlice\u001b[0m\u001b[0;34m(\u001b[0m\u001b[0;36m2\u001b[0m\u001b[0;34m,\u001b[0m \u001b[0mos\u001b[0m\u001b[0;34m.\u001b[0m\u001b[0mpath\u001b[0m\u001b[0;34m.\u001b[0m\u001b[0mjoin\u001b[0m\u001b[0;34m(\u001b[0m\u001b[0mPATH_TO_DATA\u001b[0m\u001b[0;34m,\u001b[0m\u001b[0;34m\"050-004/dcm/newfilename.dcm\"\u001b[0m\u001b[0;34m)\u001b[0m\u001b[0;34m,\u001b[0m \u001b[0mos\u001b[0m\u001b[0;34m.\u001b[0m\u001b[0mpath\u001b[0m\u001b[0;34m.\u001b[0m\u001b[0mjoin\u001b[0m\u001b[0;34m(\u001b[0m\u001b[0mPATH_TO_DATA\u001b[0m\u001b[0;34m,\u001b[0m\u001b[0;34m\"050-004/dcm/newfilename.dcm\"\u001b[0m\u001b[0;34m)\u001b[0m\u001b[0;34m)\u001b[0m\u001b[0;34m\u001b[0m\u001b[0m\n\u001b[1;32m     13\u001b[0m \u001b[0mnewDcmSlice\u001b[0m \u001b[0;34m=\u001b[0m \u001b[0mdicom\u001b[0m\u001b[0;34m.\u001b[0m\u001b[0mread_file\u001b[0m\u001b[0;34m(\u001b[0m\u001b[0mos\u001b[0m\u001b[0;34m.\u001b[0m\u001b[0mpath\u001b[0m\u001b[0;34m.\u001b[0m\u001b[0mjoin\u001b[0m\u001b[0;34m(\u001b[0m\u001b[0mPATH_TO_DATA\u001b[0m\u001b[0;34m,\u001b[0m\u001b[0;34m\"050-004/dcm/newfilename.dcm\"\u001b[0m\u001b[0;34m)\u001b[0m\u001b[0;34m)\u001b[0m\u001b[0;34m\u001b[0m\u001b[0m\n\u001b[0;32m---> 14\u001b[0;31m \u001b[0mnewSlice\u001b[0m \u001b[0;34m=\u001b[0m \u001b[0mdicom\u001b[0m\u001b[0;34m.\u001b[0m\u001b[0mread_file\u001b[0m\u001b[0;34m(\u001b[0m\u001b[0;34m\"newfilename.dcm\"\u001b[0m\u001b[0;34m)\u001b[0m\u001b[0;34m\u001b[0m\u001b[0m\n\u001b[0m\u001b[1;32m     15\u001b[0m \u001b[0mmy_array\u001b[0m \u001b[0;34m=\u001b[0m \u001b[0mnewSlice\u001b[0m\u001b[0;34m.\u001b[0m\u001b[0mpixel_array\u001b[0m\u001b[0;34m\u001b[0m\u001b[0m\n\u001b[1;32m     16\u001b[0m \u001b[0;32mfor\u001b[0m \u001b[0mx\u001b[0m \u001b[0;32min\u001b[0m \u001b[0mmy_array\u001b[0m\u001b[0;34m:\u001b[0m\u001b[0;34m\u001b[0m\u001b[0m\n",
      "\u001b[0;32m/anaconda3/lib/python3.6/site-packages/pydicom-0.9.9-py3.6.egg/dicom/filereader.py\u001b[0m in \u001b[0;36mread_file\u001b[0;34m(fp, defer_size, stop_before_pixels, force)\u001b[0m\n\u001b[1;32m    587\u001b[0m         \u001b[0mcaller_owns_file\u001b[0m \u001b[0;34m=\u001b[0m \u001b[0;32mFalse\u001b[0m\u001b[0;34m\u001b[0m\u001b[0m\n\u001b[1;32m    588\u001b[0m         \u001b[0mlogger\u001b[0m\u001b[0;34m.\u001b[0m\u001b[0mdebug\u001b[0m\u001b[0;34m(\u001b[0m\u001b[0;34m\"Reading file '{0}'\"\u001b[0m\u001b[0;34m.\u001b[0m\u001b[0mformat\u001b[0m\u001b[0;34m(\u001b[0m\u001b[0mfp\u001b[0m\u001b[0;34m)\u001b[0m\u001b[0;34m)\u001b[0m\u001b[0;34m\u001b[0m\u001b[0m\n\u001b[0;32m--> 589\u001b[0;31m         \u001b[0mfp\u001b[0m \u001b[0;34m=\u001b[0m \u001b[0mopen\u001b[0m\u001b[0;34m(\u001b[0m\u001b[0mfp\u001b[0m\u001b[0;34m,\u001b[0m \u001b[0;34m'rb'\u001b[0m\u001b[0;34m)\u001b[0m\u001b[0;34m\u001b[0m\u001b[0m\n\u001b[0m\u001b[1;32m    590\u001b[0m \u001b[0;34m\u001b[0m\u001b[0m\n\u001b[1;32m    591\u001b[0m     \u001b[0;32mif\u001b[0m \u001b[0mdicom\u001b[0m\u001b[0;34m.\u001b[0m\u001b[0mdebugging\u001b[0m\u001b[0;34m:\u001b[0m\u001b[0;34m\u001b[0m\u001b[0m\n",
      "\u001b[0;31mFileNotFoundError\u001b[0m: [Errno 2] No such file or directory: 'newfilename.dcm'"
     ]
    }
   ],
   "source": [
    "pathToSlice = os.path.join(PATH_TO_DATA,\"050-004/dcm/PI.1.3.46.670589.28.2.15.2199422639.3.82.0.13067747800.dcm\")\n",
    "dcmSlice = dicom.read_file(pathToSlice)\n",
    "print(dcmSlice.PatientName,\n",
    "     dcmSlice.RescaleSlope)\n",
    "print(dcmSlice[0x00100010])\n",
    "print(dcmSlice[0x18,0x50])\n",
    "print(dcmSlice)\n",
    "print(\"######## HERE ########\")\n",
    "radioPharmaceutical = dcmSlice[0x00540016]\n",
    "my_array = dcmSlice.pixel_array\n",
    "\n",
    "multiplySlice(2, os.path.join(PATH_TO_DATA,\"050-004/dcm/newfilename.dcm\"), os.path.join(PATH_TO_DATA,\"050-004/dcm/newfilename.dcm\"))\n",
    "newDcmSlice = dicom.read_file(os.path.join(PATH_TO_DATA,\"050-004/dcm/newfilename.dcm\"))\n",
    "newSlice = dicom.read_file(\"newfilename.dcm\")\n",
    "my_array = newSlice.pixel_array\n",
    "for x in my_array:\n",
    "    for y in x:\n",
    "        if y!=0:\n",
    "            print(y)\n",
    "\n",
    "\n",
    "dcmSlice = dicom.read_file(pathToSlice)\n",
    "suvFactor = getSUVFactor(dcmSlice)\n",
    "print(\"suv factor : %i\" % suvFactor)"
   ]
  },
  {
   "cell_type": "code",
   "execution_count": null,
   "metadata": {
    "collapsed": true
   },
   "outputs": [],
   "source": [
    "def dcmToSimpleITK(dcmDirectory):\n",
    "    '''Return sITK type image from a pile of dcm files'''\n",
    "    list_dcmFiles = []\n",
    "    for directory, subDirectory, list_dcmFileNames in os.walk(dcmDirectory):\n",
    "        for dcmFile in list_dcmFileNames:\n",
    "            list_dcmFiles.append(os.path.join(directory, dcmFile))\n",
    "    dcmImage = [dicom.read_file(file) for file in list_dcmFiles]\n",
    "    voxel_ndarray, ijk_to_xyz = dicom_numpy.combine_slices(dcmImage)\n",
    "    sITK_image = sitk.GetImageFromArray(voxel_ndarray)\n",
    "    return(sITK_image)\n",
    "    "
   ]
  },
  {
   "cell_type": "markdown",
   "metadata": {},
   "source": [
    "#2 Fonction intermediaire getTifMasks\n",
    "```\n",
    "Ouverture du dossier lesion:\n",
    "\n",
    "Si il existe un fichier 25.tif:\n",
    "    assigner le chemin vers ce fichier à la variable pathToMask25Tif\n",
    "Sinon ouvrir le dossier 25:\n",
    "    construire .tif à partir de la pile\n",
    "    assigner le chemin vers ce fichier à la variable pathToMask25Tif\n",
    "    \n",
    "Si il existe un fichier 40.tif:\n",
    "    assigner le chemin vers ce fichier à la variable pathToMask40Tif\n",
    "Sinon ouvrir les dossiers 40 \n",
    "    construire .tif à partir de la pile\n",
    "    assigner le chemin vers ce fichier à la variable pathToMask40Tif\n",
    "    \n",
    "retourner les 3 masques en .tif\n",
    "```"
   ]
  },
  {
   "cell_type": "code",
   "execution_count": 8,
   "metadata": {
    "collapsed": true
   },
   "outputs": [],
   "source": [
    "def getTifMasks(masksPath):\n",
    "    '''Return path toward the KMean, 40 and 2.5 mask respectively in this order'''\n",
    "    list_files = [file for file in os.listdir(masksPath) if os.path.isfile(os.path.join(masksPath, file))]\n",
    "    mask40Name = '40.tif' \n",
    "    mask25Name = '25.tif' \n",
    "    pathToKmeanMask = masksPath + '/kmean.tif'\n",
    "    if mask40Name in list_files:\n",
    "        pathTo40Mask = os.path.join(masksPath, mask40Name)\n",
    "        print(pathTo40Mask)\n",
    "    else:\n",
    "        pathTo40Mask = makeTifFromPile(os.path.join(masksPath, \"40\"))\n",
    "    if mask25Name in list_files:\n",
    "        pathTo25Mask = os.path.join(masksPath, mask25Name)\n",
    "    else:\n",
    "        pathTo25Mask = makeTifFromPile(os.path.join(masksPath, '2.5'))\n",
    "    return(pathToKmeanMask, pathTo40Mask, pathTo25Mask)"
   ]
  },
  {
   "cell_type": "code",
   "execution_count": 9,
   "metadata": {
    "collapsed": true
   },
   "outputs": [],
   "source": [
    "def getWords(text):\n",
    "    return re.compile('\\w+').findall(text)"
   ]
  },
  {
   "cell_type": "code",
   "execution_count": 10,
   "metadata": {
    "collapsed": true
   },
   "outputs": [],
   "source": [
    "def makeTifFromPile(pathToPile):\n",
    "    '''Takes an absoulte path containing a pile of masks, compute the resulting .tif mask and output the path to the created .tif mask '''\n",
    "    list_pileFiles = []\n",
    "    for dirpath,dirnames,fileNames in os.walk(pathToPile):\n",
    "        for file in fileNames:\n",
    "            list_pileFiles.append(os.path.join(dirpath,file))\n",
    "    list_pileFilesAsArray = []\n",
    "    \n",
    "    first_file = list_pileFiles[0]\n",
    "    #get the shape of the image\n",
    "    with open(first_file, mode='r', encoding='utf-8') as file:\n",
    "        file.readline()#first line is junk data\n",
    "        shapeLocalMask = getWords(file.readline()) #secondline is shape of the dcm pile\n",
    "        xShape = int(shapeLocalMask[0])\n",
    "        yShape = int(shapeLocalMask[1])\n",
    "        mask_size = (xShape, yShape)\n",
    "    \n",
    "    num_file = len(list_pileFiles)\n",
    "    mask_array = np.zeros((num_file, xShape, yShape))\n",
    "    fileIndex = num_file-1\n",
    "    for pileFile in list_pileFiles:\n",
    "        with open(pileFile, mode='r', encoding='utf-8') as file:\n",
    "            file.readline() #junk line\n",
    "            file.readline() #secondline is shape of the dcm pile\n",
    "            file.readline() # 3 lines of junk data\n",
    "            for rowIndex in range(xShape):\n",
    "                for colIndex in range(yShape):\n",
    "                    val = file.read(1)\n",
    "                    while (val!='0' and val!='1'):\n",
    "                        val = file.read(1)\n",
    "                    mask_array[fileIndex,rowIndex, colIndex] = int(val)\n",
    "            fileIndex = fileIndex - 1\n",
    "\n",
    "    pathToLesion = os.path.abspath(os.path.join(pathToPile, os.pardir))\n",
    "\n",
    "    if('2.5' in pathToPile):\n",
    "        pathToTifMask = os.path.join(pathToLesion, '25.tif')\n",
    "    if('40' in pathToPile):\n",
    "        pathToTifMask = os.path.join(pathToLesion, '40.tif')\n",
    "        \n",
    "    tifffile.imsave(pathToTifMask, mask_array)\n",
    "    return pathToTifMask"
   ]
  },
  {
   "cell_type": "code",
   "execution_count": 11,
   "metadata": {},
   "outputs": [
    {
     "name": "stdout",
     "output_type": "stream",
     "text": [
      "/Users/pops/Documents/ecn/projet/MYELOME/001-060/l1/40.tif\n"
     ]
    },
    {
     "data": {
      "text/plain": [
       "('/Users/pops/Documents/ecn/projet/MYELOME/001-060/l1/kmean.tif',\n",
       " '/Users/pops/Documents/ecn/projet/MYELOME/001-060/l1/40.tif',\n",
       " '/Users/pops/Documents/ecn/projet/MYELOME/001-060/l1/25.tif')"
      ]
     },
     "execution_count": 11,
     "metadata": {},
     "output_type": "execute_result"
    }
   ],
   "source": [
    "masksPath = PATH_TO_DATA + \"001-060/l1\"\n",
    "getTifMasks(masksPath)"
   ]
  },
  {
   "cell_type": "code",
   "execution_count": 12,
   "metadata": {
    "collapsed": true
   },
   "outputs": [],
   "source": [
    "maskKmean = tifffile.imread(PATH_TO_DATA + '001-060/l1/kmean.tif')\n",
    "mask40 = tifffile.imread(PATH_TO_DATA + '001-060/l1/40.tif')\n"
   ]
  },
  {
   "cell_type": "code",
   "execution_count": 13,
   "metadata": {},
   "outputs": [
    {
     "name": "stdout",
     "output_type": "stream",
     "text": [
      "Kmean :  (311, 128, 128)  \n",
      "40 :  (374, 168, 168)\n"
     ]
    }
   ],
   "source": [
    "print('Kmean : ',maskKmean.shape,' \\n40 : ', mask40.shape)"
   ]
  },
  {
   "cell_type": "markdown",
   "metadata": {},
   "source": [
    "### majorityVote implementation\n",
    "\n",
    "Le calcul du mask résultant par vote_maj se fait sur des fichiers en .tif"
   ]
  },
  {
   "cell_type": "code",
   "execution_count": 14,
   "metadata": {
    "collapsed": true
   },
   "outputs": [],
   "source": [
    "def majorityVote(masksPath):\n",
    "    print(masksPath)\n",
    "    '''Compute the average mask based on the majority vote method from different masks from a lesion'''\n",
    "    #TO DO : Add a a safety check to make sure weuse the file Result.tiff, if it exists in the masksPath directory. \n",
    "    # this mask corresponds to the resulting voteMaj mask. No need to recompute it.\n",
    "    \n",
    "    # Import des 3 masques tif\n",
    "    (pathToKmeanMask, pathTo40Mask, pathTo25Mask) = getTifMasks(masksPath)\n",
    "\n",
    "    \n",
    "    mkmean = io.imread(pathToKmeanMask).T\n",
    "    m25 = io.imread(pathTo40Mask).T\n",
    "    m40 = io.imread(pathTo25Mask).T\n",
    "    \n",
    "    \n",
    "    # Paramètres\n",
    "    ACCEPT = 0.33  # seuil d'acceptation pour que le voxel appartienne à la lésion ou au fond, valeur donnée par Thomas 0.45\n",
    "    nbmethods = 3  # Nombre de methodes (40%, 2.5 et kmean)\n",
    "    \n",
    "    # Dimensions\n",
    "    imageDims = mkmean.shape\n",
    "    \n",
    "    # Image binaire segmentée selon vote majoritaire\n",
    "    mMajority = np.zeros(imageDims)\n",
    "\n",
    "    somme = m40 + m25 + mkmean\n",
    "    somme /= nbmethods\n",
    "\n",
    "    mMajority[somme >= ACCEPT] = 1 #Vectorized method\n",
    "    \n",
    "    # print(\"somme shape\", somme.shape) #element wise method\n",
    "    # for xindex, x in enumerate(somme):\n",
    "    #     for yindex, y in enumerate(x):\n",
    "    #         for zindex, z in enumerate(y):\n",
    "    #             #if z != 0:\n",
    "    #              #   print(z)\n",
    "    #               #  mMajority[xindex, yindex, zindex] = 1\n",
    "    #             if z >= ACCEPT:\n",
    "    #                 mMajority[xindex, yindex, zindex] = 1\n",
    "\n",
    "    \n",
    "    sITK_mask = sitk.GetImageFromArray(mMajority)\n",
    "    \n",
    "    majorityTiffPath = os.path.join(masksPath, \"majority.tif\")\n",
    "    tifffile.imsave(majorityTiffPath, mMajority)\n",
    "    \n",
    "    return sITK_mask"
   ]
  },
  {
   "cell_type": "code",
   "execution_count": 15,
   "metadata": {
    "collapsed": true
   },
   "outputs": [],
   "source": [
    "class Patient:\n",
    "\n",
    "    def __init__(self, ref, image=None, list_lesions=[]):\n",
    "        '''Provide ref number of the patient as a string \"xxx-xxx\", image must be simpleITK'''\n",
    "        self.ref = ref\n",
    "        self.list_lesions = list_lesions\n",
    "        dcmDirectory = os.path.join(PATH_TO_DATA, ref, \"dcm\")\n",
    "        self.image = dcmToSimpleITK(dcmDirectory)\n",
    "        "
   ]
  },
  {
   "cell_type": "code",
   "execution_count": 16,
   "metadata": {
    "collapsed": true
   },
   "outputs": [],
   "source": [
    "class Lesion:\n",
    "    \n",
    "    def __init__(self, ref, masksPath):\n",
    "        '''Provide ref number as string \"lx\", where x is the number of the lesion, masksPath is the path to the folder conatining the masks'''\n",
    "        self.ref = ref\n",
    "        self.mask = majorityVote(masksPath)\n",
    "        self.dico_features = {} #la liste des features à récupérer sera à définir avec Thomas"
   ]
  },
  {
   "cell_type": "code",
   "execution_count": 17,
   "metadata": {
    "collapsed": true
   },
   "outputs": [],
   "source": [
    "PARAM_PATH = \"/Users/pops/Documents/ecn/projet/petml/code/extractionParams.yaml\""
   ]
  },
  {
   "cell_type": "code",
   "execution_count": 18,
   "metadata": {},
   "outputs": [
    {
     "name": "stdout",
     "output_type": "stream",
     "text": [
      "Image patient  <class 'SimpleITK.SimpleITK.Image'>\n",
      "Superposition des masques\n",
      "general_info_BoundingBox: (298, 91, 71, 4, 9, 7) \n",
      "\n",
      "general_info_EnabledImageTypes: {'Original': {}} \n",
      "\n",
      "general_info_GeneralSettings: {'minimumROIDimensions': 1, 'minimumROISize': None, 'normalize': False, 'normalizeScale': 1, 'removeOutliers': None, 'resampledPixelSpacing': None, 'interpolator': 'sitkBSpline', 'preCrop': False, 'padDistance': 5, 'distances': [1], 'force2D': False, 'force2Ddimension': 0, 'resegmentRange': None, 'label': 1, 'enableCExtensions': True, 'additionalInfo': True, 'binWidth': 3, 'weightingNorm': None} \n",
      "\n",
      "general_info_ImageHash: 15d6a046a3b8a135f800417307c00f8dcc344c1c \n",
      "\n",
      "general_info_ImageSpacing: (1.0, 1.0, 1.0) \n",
      "\n",
      "general_info_MaskHash: f7a3ab77eb5f0ebec567533b7bd30ede4e048203 \n",
      "\n",
      "general_info_NumpyVersion: 1.13.3 \n",
      "\n",
      "general_info_PyWaveletVersion: 0.5.2 \n",
      "\n",
      "general_info_SimpleITKVersion: 1.0.1 \n",
      "\n",
      "general_info_Version: 1.3.0.post53+g8c7dd45 \n",
      "\n",
      "general_info_VolumeNum: 1 \n",
      "\n",
      "general_info_VoxelNum: 117 \n",
      "\n",
      "original_shape_Volume: 117.0 \n",
      "\n",
      "original_firstorder_Entropy: 6.76780061702 \n",
      "\n",
      "original_firstorder_Maximum: 11211.0 \n",
      "\n",
      "original_glcm_Id: 0.0152115013141 \n",
      "\n",
      "original_glcm_DifferenceAverage: 395.474126008 \n",
      "\n",
      "original_glrlm_HighGrayLevelRunEmphasis: 450555.664235 \n",
      "\n",
      "original_glszm_SizeZoneNonUniformity: 114.017241379 \n",
      "\n",
      "original_glszm_SmallAreaHighGrayLevelEmphasis: 452056.681034 \n",
      "\n",
      "original_glszm_ZonePercentage: 0.991452991453 \n",
      "\n"
     ]
    }
   ],
   "source": [
    "#test du focntionnement de l'extarctionà partir d'un fichier de paramètres en .yaml\n",
    "# objectif d'intancier un extracteur auquel on fourni la liste des features à extraire\n",
    "# en dehors du code pour plus de flexibilité.\n",
    "ref = \"050-004\"\n",
    "patient1 = Patient(ref)\n",
    "patient1.ref\n",
    "patient1.image\n",
    "#lesion1 = Lesion(\"l2\", \"/Users/pops/Documents/ecn/projet/MYELOME/001-060/l2\")\n",
    "print('Image patient  %s' % type(patient1.image))\n",
    "#print('Image lésion %s' % type(lesion1.mask))\n",
    "mask = sitk.GetImageFromArray(io.imread(\"/Users/pops/Documents/ecn/projet/MYELOME/\" + ref + \"/l2/kmean.tif\").T)\n",
    "#lesion1.mask = sitk.GetImageFromArray(io.imread(\"/Users/pops/Documents/ecn/projet/MYELOME/001-060/l2/kmean.tif\").T)\n",
    "print(\"Superposition des masques\")\n",
    "\n",
    "\n",
    "\n",
    "#extractor = featureextractor.RadiomicsFeaturesExtractor(PARAM_PATH)\n",
    "###\n",
    "\n",
    "\n",
    "# This cell is equivalent to the previous cell\n",
    "extractor = featureextractor.RadiomicsFeaturesExtractor(PARAM_PATH)\n",
    "extractor.loadParams(paramsFile=PARAM_PATH)\n",
    "classNames = extractor.getFeatureClassNames()\n",
    "#for value in iter(classNames):\n",
    "    #print(value)\n",
    "    #print(extractor.getFeatureNames(value))\n",
    "    #print(extractor.computeFeatures(patient1.image, lesion1.mask))\n",
    "    #print(extractor.execute(patient1.image, mask))\n",
    "features = extractor.execute(patient1.image, mask)\n",
    "for key in features:\n",
    "    print(\"%s: %s \\n\" % (key, features[key]))"
   ]
  },
  {
   "cell_type": "markdown",
   "metadata": {},
   "source": [
    "### Fonction extraction des features pour une lésion"
   ]
  },
  {
   "cell_type": "code",
   "execution_count": 19,
   "metadata": {
    "collapsed": true
   },
   "outputs": [],
   "source": [
    "def setFeatures(dico_features, image, mask, paramPath):\n",
    "    \n",
    "    # Instantiate the extractor\n",
    "    extractor = radiomics.featureextractor.RadiomicsFeaturesExtractor(paramPath)\n",
    "    R = radiomics.glcm.RadiomicsGLCM(image, mask)\n",
    "    dico_features[\"Autocorrelation\"] = R.getAutocorrelationFeatureValue()\n",
    "    dico_features[\"ClusterProminence\"] = R.getClusterProminenceFeatureValue()\n",
    "    dico_features[\"ClusterShade\"] = R.getClusterShadeFeatureValue()\n",
    "    dico_features[\"Contrast\"] = R.getContrastFeatureValue()\n",
    "    dico_features[\"Correlation\"] = R.getCorrelationFeatureValue()\n",
    "    dico_features[\"DifferenceEntropy\"] = R.getDifferenceEntropyFeatureValue()\n",
    "    dico_features[\"DifferenceVariance\"] = R.getDifferenceVarianceFeatureValue()\n",
    "    \n",
    "    return dico_features"
   ]
  },
  {
   "cell_type": "markdown",
   "metadata": {},
   "source": [
    "## Pipeline pour l'extraction automatisée de features\n",
    "A partir d'un dossier de patients suivant une architecture standardisée"
   ]
  },
  {
   "cell_type": "code",
   "execution_count": 20,
   "metadata": {
    "scrolled": true
   },
   "outputs": [
    {
     "name": "stdout",
     "output_type": "stream",
     "text": [
      "Processing patient completeData10_January2018_4ECN.csv ...\n"
     ]
    },
    {
     "ename": "DicomImportException",
     "evalue": "Must provide at least one DICOM dataset",
     "output_type": "error",
     "traceback": [
      "\u001b[0;31m---------------------------------------------------------------------------\u001b[0m",
      "\u001b[0;31mDicomImportException\u001b[0m                      Traceback (most recent call last)",
      "\u001b[0;32m<ipython-input-20-2f9be3e329bb>\u001b[0m in \u001b[0;36m<module>\u001b[0;34m()\u001b[0m\n\u001b[1;32m      2\u001b[0m \u001b[0;32mfor\u001b[0m \u001b[0mrefPatient\u001b[0m \u001b[0;32min\u001b[0m \u001b[0mos\u001b[0m\u001b[0;34m.\u001b[0m\u001b[0mlistdir\u001b[0m\u001b[0;34m(\u001b[0m\u001b[0mPATH_TO_DATA\u001b[0m\u001b[0;34m)\u001b[0m\u001b[0;34m:\u001b[0m\u001b[0;34m\u001b[0m\u001b[0m\n\u001b[1;32m      3\u001b[0m     \u001b[0mprint\u001b[0m\u001b[0;34m(\u001b[0m\u001b[0;34m\"Processing patient %s ...\"\u001b[0m \u001b[0;34m%\u001b[0m \u001b[0mrefPatient\u001b[0m\u001b[0;34m)\u001b[0m\u001b[0;34m\u001b[0m\u001b[0m\n\u001b[0;32m----> 4\u001b[0;31m     \u001b[0mpatient\u001b[0m \u001b[0;34m=\u001b[0m \u001b[0mPatient\u001b[0m\u001b[0;34m(\u001b[0m\u001b[0mrefPatient\u001b[0m\u001b[0;34m)\u001b[0m\u001b[0;34m\u001b[0m\u001b[0m\n\u001b[0m\u001b[1;32m      5\u001b[0m     \u001b[0mlist_patients\u001b[0m\u001b[0;34m.\u001b[0m\u001b[0mappend\u001b[0m\u001b[0;34m(\u001b[0m\u001b[0mpatient\u001b[0m\u001b[0;34m)\u001b[0m\u001b[0;34m\u001b[0m\u001b[0m\n\u001b[1;32m      6\u001b[0m     \u001b[0mpatient\u001b[0m\u001b[0;34m.\u001b[0m\u001b[0mlist_lesions\u001b[0m \u001b[0;34m=\u001b[0m \u001b[0;34m[\u001b[0m\u001b[0;34m]\u001b[0m\u001b[0;34m\u001b[0m\u001b[0m\n",
      "\u001b[0;32m<ipython-input-15-7cfeb8f4b192>\u001b[0m in \u001b[0;36m__init__\u001b[0;34m(self, ref, image, list_lesions)\u001b[0m\n\u001b[1;32m      6\u001b[0m         \u001b[0mself\u001b[0m\u001b[0;34m.\u001b[0m\u001b[0mlist_lesions\u001b[0m \u001b[0;34m=\u001b[0m \u001b[0mlist_lesions\u001b[0m\u001b[0;34m\u001b[0m\u001b[0m\n\u001b[1;32m      7\u001b[0m         \u001b[0mdcmDirectory\u001b[0m \u001b[0;34m=\u001b[0m \u001b[0mos\u001b[0m\u001b[0;34m.\u001b[0m\u001b[0mpath\u001b[0m\u001b[0;34m.\u001b[0m\u001b[0mjoin\u001b[0m\u001b[0;34m(\u001b[0m\u001b[0mPATH_TO_DATA\u001b[0m\u001b[0;34m,\u001b[0m \u001b[0mref\u001b[0m\u001b[0;34m,\u001b[0m \u001b[0;34m\"dcm\"\u001b[0m\u001b[0;34m)\u001b[0m\u001b[0;34m\u001b[0m\u001b[0m\n\u001b[0;32m----> 8\u001b[0;31m         \u001b[0mself\u001b[0m\u001b[0;34m.\u001b[0m\u001b[0mimage\u001b[0m \u001b[0;34m=\u001b[0m \u001b[0mdcmToSimpleITK\u001b[0m\u001b[0;34m(\u001b[0m\u001b[0mdcmDirectory\u001b[0m\u001b[0;34m)\u001b[0m\u001b[0;34m\u001b[0m\u001b[0m\n\u001b[0m\u001b[1;32m      9\u001b[0m \u001b[0;34m\u001b[0m\u001b[0m\n",
      "\u001b[0;32m<ipython-input-7-3d4220c86e00>\u001b[0m in \u001b[0;36mdcmToSimpleITK\u001b[0;34m(dcmDirectory)\u001b[0m\n\u001b[1;32m      6\u001b[0m             \u001b[0mlist_dcmFiles\u001b[0m\u001b[0;34m.\u001b[0m\u001b[0mappend\u001b[0m\u001b[0;34m(\u001b[0m\u001b[0mos\u001b[0m\u001b[0;34m.\u001b[0m\u001b[0mpath\u001b[0m\u001b[0;34m.\u001b[0m\u001b[0mjoin\u001b[0m\u001b[0;34m(\u001b[0m\u001b[0mdirectory\u001b[0m\u001b[0;34m,\u001b[0m \u001b[0mdcmFile\u001b[0m\u001b[0;34m)\u001b[0m\u001b[0;34m)\u001b[0m\u001b[0;34m\u001b[0m\u001b[0m\n\u001b[1;32m      7\u001b[0m     \u001b[0mdcmImage\u001b[0m \u001b[0;34m=\u001b[0m \u001b[0;34m[\u001b[0m\u001b[0mdicom\u001b[0m\u001b[0;34m.\u001b[0m\u001b[0mread_file\u001b[0m\u001b[0;34m(\u001b[0m\u001b[0mfile\u001b[0m\u001b[0;34m)\u001b[0m \u001b[0;32mfor\u001b[0m \u001b[0mfile\u001b[0m \u001b[0;32min\u001b[0m \u001b[0mlist_dcmFiles\u001b[0m\u001b[0;34m]\u001b[0m\u001b[0;34m\u001b[0m\u001b[0m\n\u001b[0;32m----> 8\u001b[0;31m     \u001b[0mvoxel_ndarray\u001b[0m\u001b[0;34m,\u001b[0m \u001b[0mijk_to_xyz\u001b[0m \u001b[0;34m=\u001b[0m \u001b[0mdicom_numpy\u001b[0m\u001b[0;34m.\u001b[0m\u001b[0mcombine_slices\u001b[0m\u001b[0;34m(\u001b[0m\u001b[0mdcmImage\u001b[0m\u001b[0;34m)\u001b[0m\u001b[0;34m\u001b[0m\u001b[0m\n\u001b[0m\u001b[1;32m      9\u001b[0m     \u001b[0msITK_image\u001b[0m \u001b[0;34m=\u001b[0m \u001b[0msitk\u001b[0m\u001b[0;34m.\u001b[0m\u001b[0mGetImageFromArray\u001b[0m\u001b[0;34m(\u001b[0m\u001b[0mvoxel_ndarray\u001b[0m\u001b[0;34m)\u001b[0m\u001b[0;34m\u001b[0m\u001b[0m\n\u001b[1;32m     10\u001b[0m     \u001b[0;32mreturn\u001b[0m\u001b[0;34m(\u001b[0m\u001b[0msITK_image\u001b[0m\u001b[0;34m)\u001b[0m\u001b[0;34m\u001b[0m\u001b[0m\n",
      "\u001b[0;32m/anaconda3/lib/python3.6/site-packages/dicom_numpy/combine_slices.py\u001b[0m in \u001b[0;36mcombine_slices\u001b[0;34m(slice_datasets)\u001b[0m\n\u001b[1;32m     59\u001b[0m     '''\n\u001b[1;32m     60\u001b[0m     \u001b[0;32mif\u001b[0m \u001b[0mlen\u001b[0m\u001b[0;34m(\u001b[0m\u001b[0mslice_datasets\u001b[0m\u001b[0;34m)\u001b[0m \u001b[0;34m==\u001b[0m \u001b[0;36m0\u001b[0m\u001b[0;34m:\u001b[0m\u001b[0;34m\u001b[0m\u001b[0m\n\u001b[0;32m---> 61\u001b[0;31m         \u001b[0;32mraise\u001b[0m \u001b[0mDicomImportException\u001b[0m\u001b[0;34m(\u001b[0m\u001b[0;34m\"Must provide at least one DICOM dataset\"\u001b[0m\u001b[0;34m)\u001b[0m\u001b[0;34m\u001b[0m\u001b[0m\n\u001b[0m\u001b[1;32m     62\u001b[0m \u001b[0;34m\u001b[0m\u001b[0m\n\u001b[1;32m     63\u001b[0m     \u001b[0m_validate_slices_form_uniform_grid\u001b[0m\u001b[0;34m(\u001b[0m\u001b[0mslice_datasets\u001b[0m\u001b[0;34m)\u001b[0m\u001b[0;34m\u001b[0m\u001b[0m\n",
      "\u001b[0;31mDicomImportException\u001b[0m: Must provide at least one DICOM dataset"
     ]
    }
   ],
   "source": [
    "list_patients = []\n",
    "for refPatient in os.listdir(PATH_TO_DATA):\n",
    "    print(\"Processing patient %s ...\" % refPatient)\n",
    "    patient = Patient(refPatient)\n",
    "    list_patients.append(patient)\n",
    "    patient.list_lesions = []\n",
    "    for directoryName in os.listdir(os.path.join(PATH_TO_DATA, patient.ref)):\n",
    "        if directoryName != 'dcm' and directoryName != []:\n",
    "            print(\"Processing lesion %s ...\" % directoryName)\n",
    "            masksPath = os.path.join(PATH_TO_DATA, refPatient, directoryName)\n",
    "            lesion = Lesion(directoryName, masksPath)\n",
    "            patient.list_lesions.append(lesion)\n",
    "\n",
    "            lesion.dico_features = setFeatures(lesion.dico_features, patient.image, lesion.mask, PARAM_PATH)\n",
    "            "
   ]
  },
  {
   "cell_type": "markdown",
   "metadata": {},
   "source": [
    "_NB_  : Je suppose un bug sur la lésion l1 du patient 001-026, certaines valeurs du masque doivent être incohérentes car tous les autres masques fonctionnnent. Pour mes tests, j'ai déplacé cette data dans un donnée corrupted_data"
   ]
  },
  {
   "cell_type": "code",
   "execution_count": null,
   "metadata": {
    "collapsed": true
   },
   "outputs": [],
   "source": [
    "for patient in list_patients:\n",
    "    for lesion in patient.list_lesions:\n",
    "        print(patient.ref)\n",
    "        print(lesion.ref)\n",
    "        print(lesion.dico_features)"
   ]
  }
 ],
 "metadata": {
  "kernelspec": {
   "display_name": "Python 3",
   "language": "python",
   "name": "python3"
  },
  "language_info": {
   "codemirror_mode": {
    "name": "ipython",
    "version": 3
   },
   "file_extension": ".py",
   "mimetype": "text/x-python",
   "name": "python",
   "nbconvert_exporter": "python",
   "pygments_lexer": "ipython3",
   "version": "3.6.3"
  }
 },
 "nbformat": 4,
 "nbformat_minor": 2
}
