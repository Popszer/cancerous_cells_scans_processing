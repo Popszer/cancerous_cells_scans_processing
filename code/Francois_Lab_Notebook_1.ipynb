{
 "cells": [
  {
   "cell_type": "markdown",
   "metadata": {},
   "source": [
    "# François' Dev Notebook 1\n"
   ]
  },
  {
   "cell_type": "markdown",
   "metadata": {},
   "source": [
    "### Un pipe mimimaliste\n",
    "L'objectif de ce notebook est de mettre en place un pipe qui prenne en input un jeu de données patient avec chacun une pile de dicom et un filtre assoscié afin d'en extraire les features."
   ]
  },
  {
   "cell_type": "markdown",
   "metadata": {},
   "source": [
    "### Low level implementation scheme\n",
    "\n",
    "```\n",
    "Pour chaque dossier dans le dossier data:\n",
    "    Instancier un objet patient avec list_lesions vide\n",
    "    ajouter le patient à la liste de patients\n",
    "    Ouvrir le dossier dcm du dossier patient:\n",
    "        convertir la pile DCM sous la forme d'un voxel ndarray puis d'un sITK\n",
    "        Ajouter le sITK créer comme attribut image du patient\n",
    "    Pour chaque dosier dans le dossier patient:\n",
    "        Si le dossier a pour nom 'lx' avec x un entier:\n",
    "            Instancier un nouvel objet lésion:\n",
    "               Mettre l'attribut nom de la lésion comme le nom du dossier lx\n",
    "               Création du masque retenue par vote majoriateire\n",
    "               Mettre l'attribut mask de la lesions sous la forme d'un sITK\n",
    "            Superposer le masque et la lésion\n",
    "            Extraire les caractéristiques radiomics de la superposition\n",
    "            Set l'attribut features de la lesions\n",
    "            \n",
    "    \n",
    "    \n",
    "```"
   ]
  },
  {
   "cell_type": "code",
   "execution_count": 2,
   "metadata": {
    "collapsed": true
   },
   "outputs": [],
   "source": [
    "import numpy as np\n",
    "import dicom\n",
    "import dicom_numpy\n",
    "import os\n",
    "import radiomics \n",
    "from skimage import io\n",
    "import SimpleITK as sitk\n",
    "import re\n",
    "from skimage.external import tifffile"
   ]
  },
  {
   "cell_type": "code",
   "execution_count": 3,
   "metadata": {
    "collapsed": true
   },
   "outputs": [],
   "source": [
    "PATH_TO_DATA  = \"/home/popszer/Documents/ei3/petML/data/\""
   ]
  },
  {
   "cell_type": "markdown",
   "metadata": {},
   "source": [
    "## Quelques fonctions intermédiaires \n",
    "--> a déplacer dans un fichier utils que l'on appelera depuis le fichier principale\n",
    "\n",
    "### Fonction dcmToSimpleITK\n",
    "Pour traiter une pile de dicom et en donner une image simpleITK qui peut être utilisé par pyradiomics\n",
    "\n",
    "### Fonction majorityVote\n",
    "A partir de 3 masques au format .tif, retourne le filtre sélectionné par la méthode du vote majoritaire, ce masque est retournée sous forme d'une image simpleITK qui peut être utilisé par pyradiomics\n",
    "\n",
    "### Fonction getTifMasks\n",
    "A partir d'un dossier lésion, la fonction getTifMasks renvoie les 3 masques 40, 2.5 et kmean au format .tif \n",
    "\n",
    "### Fonction makeTifFromPile \n",
    "A partir d'une pile de masque, la fonction makeTifFromPile créer un masque au format.tif et le place dans le dossier racine de la lésion. Cette fonction prend en entrée le chemin vers la pile de fichiers à convertir en .tif. makeTifFromPile retourne le chemin vers le nouveau masque au format tif créé"
   ]
  },
  {
   "cell_type": "code",
   "execution_count": 4,
   "metadata": {
    "collapsed": true
   },
   "outputs": [],
   "source": [
    "def dcmToSimpleITK(dcmDirectory):\n",
    "    '''Return sITK type image from a pile of dcm files'''\n",
    "    list_dcmFiles = []\n",
    "    for directory, subDirectory, list_dcmFileNames in os.walk(dcmDirectory):\n",
    "        for dcmFile in list_dcmFileNames:\n",
    "            list_dcmFiles.append(os.path.join(directory, dcmFile))\n",
    "    dcmImage = [dicom.read_file(file) for file in list_dcmFiles]\n",
    "    voxel_ndarray, ijk_to_xyz = dicom_numpy.combine_slices(dcmImage)\n",
    "    sITK_image = sitk.GetImageFromArray(voxel_ndarray)\n",
    "    return(sITK_image)\n",
    "    "
   ]
  },
  {
   "cell_type": "markdown",
   "metadata": {},
   "source": [
    "#2 Fonction intermediaire getTifMasks\n",
    "```\n",
    "Ouverture du dossier lesion:\n",
    "\n",
    "Si il existe un fichier 25.tif:\n",
    "    assigner le chemin vers ce fichier à la variable pathToMask25Tif\n",
    "Sinon ouvrir le dossier 25:\n",
    "    construire .tif à partir de la pile\n",
    "    assigner le chemin vers ce fichier à la variable pathToMask25Tif\n",
    "    \n",
    "Si il existe un fichier 40.tif:\n",
    "    assigner le chemin vers ce fichier à la variable pathToMask40Tif\n",
    "Sinon ouvrir les dossiers 40 \n",
    "    construire .tif à partir de la pile\n",
    "    assigner le chemin vers ce fichier à la variable pathToMask40Tif\n",
    "    \n",
    "retourner les 3 masques en .tif\n",
    "```"
   ]
  },
  {
   "cell_type": "code",
   "execution_count": 5,
   "metadata": {
    "collapsed": true
   },
   "outputs": [],
   "source": [
    "def getTifMasks(masksPath):\n",
    "    '''Return path toward the KMean, 40 and 2.5 mask respectively in this order'''\n",
    "    list_files = [file for file in os.listdir(masksPath) if os.path.isfile(os.path.join(masksPath, file))]\n",
    "    mask40Name = '40.tif' \n",
    "    mask25Name = '25.tif' \n",
    "    pathToKmeanMask = masksPath + '/kmean.tif'\n",
    "    if mask40Name in list_files:\n",
    "        pathTo40Mask = os.path.join(masksPath, mask40Name)\n",
    "        print(pathTo40Mask)\n",
    "    else:\n",
    "        pathTo40Mask = makeTifFromPile(os.path.join(masksPath, \"40\"))\n",
    "    if mask25Name in list_files:\n",
    "        pathTo25Mask = os.path.join(masksPath, mask25Name)\n",
    "    else:\n",
    "        pathTo25Mask = makeTifFromPile(os.path.join(masksPath, '2.5'))\n",
    "    return(pathToKmeanMask, pathTo40Mask, pathTo25Mask)"
   ]
  },
  {
   "cell_type": "code",
   "execution_count": 6,
   "metadata": {
    "collapsed": true
   },
   "outputs": [],
   "source": [
    "def getWords(text):\n",
    "    return re.compile('\\w+').findall(text)"
   ]
  },
  {
   "cell_type": "code",
   "execution_count": 7,
   "metadata": {
    "collapsed": true
   },
   "outputs": [],
   "source": [
    "def makeTifFromPile(pathToPile):\n",
    "    '''Takes an absoulte path containing a pile of masks, compute the resulting .tif mask and output the path to the created .tif mask '''\n",
    "    list_pileFiles = []\n",
    "    for dirpath,dirnames,fileNames in os.walk(pathToPile):\n",
    "        for file in fileNames:\n",
    "            list_pileFiles.append(os.path.join(dirpath,file))\n",
    "    list_pileFilesAsArray = []\n",
    "    \n",
    "    first_file = list_pileFiles[0]\n",
    "    #get the shape of the image\n",
    "    with open(first_file, mode='r', encoding='utf-8') as file:\n",
    "        file.readline()#first line is junk data\n",
    "        shapeLocalMask = getWords(file.readline()) #secondline is shape of the dcm pile\n",
    "        xShape = int(shapeLocalMask[0])\n",
    "        yShape = int(shapeLocalMask[1])\n",
    "        mask_size = (xShape, yShape)\n",
    "    \n",
    "    num_file = len(list_pileFiles)\n",
    "    mask_array = np.zeros((num_file, xShape, yShape))\n",
    "    fileIndex = num_file-1\n",
    "    for pileFile in list_pileFiles:\n",
    "        with open(pileFile, mode='r', encoding='utf-8') as file:\n",
    "            file.readline() #junk line\n",
    "            file.readline() #secondline is shape of the dcm pile\n",
    "            file.readline() # 3 lines of junk data\n",
    "            for rowIndex in range(xShape):\n",
    "                for colIndex in range(yShape):\n",
    "                    val = file.read(1)\n",
    "                    while (val!='0' and val!='1'):\n",
    "                        val = file.read(1)\n",
    "                    mask_array[fileIndex,rowIndex, colIndex] = int(val)\n",
    "            fileIndex = fileIndex - 1\n",
    "\n",
    "    pathToLesion = os.path.abspath(os.path.join(pathToPile, os.pardir))\n",
    "\n",
    "    if('2.5' in pathToPile):\n",
    "        pathToTifMask = os.path.join(pathToLesion, '25.tif')\n",
    "    if('40' in pathToPile):\n",
    "        pathToTifMask = os.path.join(pathToLesion, '40.tif')\n",
    "        \n",
    "    tifffile.imsave(pathToTifMask, mask_array)\n",
    "    return pathToTifMask"
   ]
  },
  {
   "cell_type": "code",
   "execution_count": 8,
   "metadata": {},
   "outputs": [
    {
     "name": "stdout",
     "output_type": "stream",
     "text": [
      "/home/popszer/Documents/ei3/petML/data/001-026/l2/40.tif\n"
     ]
    },
    {
     "data": {
      "text/plain": [
       "('/home/popszer/Documents/ei3/petML/data/001-026/l2/kmean.tif',\n",
       " '/home/popszer/Documents/ei3/petML/data/001-026/l2/40.tif',\n",
       " '/home/popszer/Documents/ei3/petML/data/001-026/l2/25.tif')"
      ]
     },
     "execution_count": 8,
     "metadata": {},
     "output_type": "execute_result"
    }
   ],
   "source": [
    "masksPath = PATH_TO_DATA + \"001-026/l2\"\n",
    "getTifMasks(masksPath)"
   ]
  },
  {
   "cell_type": "code",
   "execution_count": 9,
   "metadata": {
    "collapsed": true
   },
   "outputs": [],
   "source": [
    "maskKmean = tifffile.imread(PATH_TO_DATA + '001-026/l2/kmean.tif')\n",
    "mask40 = tifffile.imread(PATH_TO_DATA + '001-026/l2/40.tif')\n"
   ]
  },
  {
   "cell_type": "code",
   "execution_count": 10,
   "metadata": {},
   "outputs": [
    {
     "name": "stdout",
     "output_type": "stream",
     "text": [
      "Kmean :  (324, 168, 168)  \n",
      "40 :  (326, 168, 168)\n"
     ]
    }
   ],
   "source": [
    "print('Kmean : ',maskKmean.shape,' \\n40 : ', mask40.shape)"
   ]
  },
  {
   "cell_type": "markdown",
   "metadata": {},
   "source": [
    "### majorityVote implementation\n",
    "\n",
    "Le calcul du mask résultant par vote_maj se fait sur des fichiers en .tif"
   ]
  },
  {
   "cell_type": "code",
   "execution_count": 11,
   "metadata": {
    "collapsed": true
   },
   "outputs": [],
   "source": [
    "def majorityVote(masksPath):\n",
    "    print(masksPath)\n",
    "    '''Compute the average mask based on the majority vote method from different masks from a lesion'''\n",
    "    #TO DO : Add a a safety check to make sure weuse the file Result.tiff, if it exists in the masksPath directory. \n",
    "    # this mask corresponds to the resulting voteMaj mask. No need to recompute it.\n",
    "    \n",
    "    # Import des 3 masques tif\n",
    "    (pathToKmeanMask, pathTo40Mask, pathTo25Mask) = getTifMasks(masksPath)\n",
    "    \n",
    "    mkmean = io.imread(pathToKmeanMask).T\n",
    "    m25 = io.imread(pathTo40Mask).T\n",
    "    m40 = io.imread(pathTo25Mask).T\n",
    "    \n",
    "    # Paramètres\n",
    "    ACCEPT = 0.33  # seuil d'acceptation pour que le voxel appartienne à la lésion ou au fond, valeur donnée par Thomas 0.45\n",
    "    nbmethods = 3  # Nombre de methodes (40%, 2.5 et kmean)\n",
    "    \n",
    "    # Dimensions\n",
    "    imageDims = mkmean.shape\n",
    "    \n",
    "    # Image binaire segmentée selon vote majoritaire\n",
    "    mMajority = np.zeros(imageDims)\n",
    "\n",
    "    somme = m40[:,:,:mkmean.shape[2]] + m25[:,:,:mkmean.shape[2]] + mkmean\n",
    "    somme /= nbmethods\n",
    "\n",
    "    mMajority[somme >= ACCEPT] = 1 #Vectorized method\n",
    "    \n",
    "    # print(\"somme shape\", somme.shape) #element wise method\n",
    "    # for xindex, x in enumerate(somme):\n",
    "    #     for yindex, y in enumerate(x):\n",
    "    #         for zindex, z in enumerate(y):\n",
    "    #             #if z != 0:\n",
    "    #              #   print(z)\n",
    "    #               #  mMajority[xindex, yindex, zindex] = 1\n",
    "    #             if z >= ACCEPT:\n",
    "    #                 mMajority[xindex, yindex, zindex] = 1\n",
    "\n",
    "    \n",
    "    sITK_mask = sitk.GetImageFromArray(mMajority)\n",
    "    \n",
    "    majorityTiffPath = os.path.join(masksPath, \"majority.tif\")\n",
    "    tifffile.imsave(majorityTiffPath, mMajority)\n",
    "    \n",
    "    return sITK_mask"
   ]
  },
  {
   "cell_type": "code",
   "execution_count": 12,
   "metadata": {
    "collapsed": true
   },
   "outputs": [],
   "source": [
    "class Patient:\n",
    "\n",
    "    def __init__(self, ref, image=None, list_lesions=[]):\n",
    "        '''Provide ref number of the patient as a string \"xxx-xxx\", image must be simpleITK'''\n",
    "        self.ref = ref\n",
    "        self.list_lesions = list_lesions\n",
    "        dcmDirectory = os.path.join(PATH_TO_DATA, ref, \"dcm\")\n",
    "        self.image = dcmToSimpleITK(dcmDirectory)\n",
    "        "
   ]
  },
  {
   "cell_type": "code",
   "execution_count": 13,
   "metadata": {
    "collapsed": true
   },
   "outputs": [],
   "source": [
    "class Lesion:\n",
    "    \n",
    "    def __init__(self, ref, masksPath):\n",
    "        '''Provide ref number as string \"lx\", where x is the number of the lesion, masksPath is the path to the folder conatining the masks'''\n",
    "        self.ref = ref\n",
    "        self.mask = majorityVote(masksPath)\n",
    "        self.dico_features = {} #la liste des features à récupérer sera à définir avec Thomas"
   ]
  },
  {
   "cell_type": "code",
   "execution_count": 14,
   "metadata": {
    "collapsed": true
   },
   "outputs": [],
   "source": [
    "PARAM_PATH = \"/home/popszer/Documents/ei3/petML/extractionParams.yaml\""
   ]
  },
  {
   "cell_type": "code",
   "execution_count": 15,
   "metadata": {},
   "outputs": [
    {
     "name": "stdout",
     "output_type": "stream",
     "text": [
      "/home/popszer/Documents/ei3/petML/data/001-026/l7\n",
      "/home/popszer/Documents/ei3/petML/data/001-026/l7/40.tif\n",
      "Image patient  <class 'SimpleITK.SimpleITK.Image'>\n",
      "Image lésion <class 'SimpleITK.SimpleITK.Image'>\n",
      "Superposition des masques\n",
      "<class 'collections.OrderedDict'>\n",
      "Calculated features\n"
     ]
    }
   ],
   "source": [
    "#test du focntionnement de l'extarctionà partir d'un fichier de paramètres en .yaml\n",
    "# objectif d'intancier un extracteur auquel on fourni la liste des features à extraire\n",
    "# en dehors du code pour plus de flexibilité.\n",
    "\n",
    "patient1 = Patient(\"001-026\")\n",
    "patient1.ref\n",
    "patient1.image\n",
    "lesion = Lesion(\"l7\", \"/home/popszer/Documents/ei3/petML/data/001-026/l7\")\n",
    "print('Image patient  %s' % type(patient1.image))\n",
    "print('Image lésion %s' % type(lesion.mask))\n",
    "#lesion.mask = sitk.GetImageFromArray(io.imread(\"/home/popszer/Documents/ei3/petML/data/001-026/l7/kmean.tif\").T)\n",
    "print(\"Superposition des masques\")\n",
    "\n",
    "\n",
    "\n",
    "#extractor = featureextractor.RadiomicsFeaturesExtractor(PARAM_PATH)\n",
    "###\n",
    "\n",
    "\n",
    "# This cell is equivalent to the previous cell\n",
    "extractor = radiomics.featureextractor.RadiomicsFeaturesExtractor(binWidth=20, sigma=[1, 2, 3], verbose=True)  # Equivalent of code above\n",
    "\n",
    "\n",
    "###\n",
    "result = extractor.execute(patient1.image, lesion.mask)\n",
    "print(type(result))\n",
    "print (\"Calculated features\")\n",
    "for key, value in result.items():\n",
    "    print (\"\\t\", key, \":\", value)"
   ]
  },
  {
   "cell_type": "markdown",
   "metadata": {},
   "source": [
    "### Fonction extraction des features pour une lésion"
   ]
  },
  {
   "cell_type": "code",
   "execution_count": 16,
   "metadata": {
    "collapsed": true
   },
   "outputs": [],
   "source": [
    "def setFeatures(dico_features, image, mask, paramPath):\n",
    "    \n",
    "    # Instantiate the extractor\n",
    "    extractor = radiomics.featureextractor.RadiomicsFeaturesExtractor(paramPath)\n",
    "    R = radiomics.glcm.RadiomicsGLCM(image, mask)\n",
    "    dico_features[\"Autocorrelation\"] = R.getAutocorrelationFeatureValue()\n",
    "    dico_features[\"ClusterProminence\"] = R.getClusterProminenceFeatureValue()\n",
    "    dico_features[\"ClusterShade\"] = R.getClusterShadeFeatureValue()\n",
    "    dico_features[\"Contrast\"] = R.getContrastFeatureValue()\n",
    "    dico_features[\"Correlation\"] = R.getCorrelationFeatureValue()\n",
    "    dico_features[\"DifferenceEntropy\"] = R.getDifferenceEntropyFeatureValue()\n",
    "    dico_features[\"DifferenceVariance\"] = R.getDifferenceVarianceFeatureValue()\n",
    "    \n",
    "    return dico_features"
   ]
  },
  {
   "cell_type": "markdown",
   "metadata": {},
   "source": [
    "## Pipeline pour l'extraction automatisée de features\n",
    "A partir d'un dossier de patients suivant une architecture standardisée"
   ]
  },
  {
   "cell_type": "code",
   "execution_count": 17,
   "metadata": {
    "scrolled": true
   },
   "outputs": [
    {
     "name": "stdout",
     "output_type": "stream",
     "text": [
      "Processing patient 001-032 ...\n",
      "Processing patient 001-052 ...\n",
      "Processing lesion l1 ...\n",
      "/home/popszer/Documents/ei3/petML/data/001-052/l1\n",
      "/home/popszer/Documents/ei3/petML/data/001-052/l1/40.tif\n",
      "Processing patient 001-026 ...\n",
      "Processing lesion l4 ...\n",
      "/home/popszer/Documents/ei3/petML/data/001-026/l4\n",
      "/home/popszer/Documents/ei3/petML/data/001-026/l4/40.tif\n",
      "Processing lesion l2 ...\n",
      "/home/popszer/Documents/ei3/petML/data/001-026/l2\n",
      "/home/popszer/Documents/ei3/petML/data/001-026/l2/40.tif\n",
      "Processing lesion l6 ...\n",
      "/home/popszer/Documents/ei3/petML/data/001-026/l6\n",
      "/home/popszer/Documents/ei3/petML/data/001-026/l6/40.tif\n",
      "Processing lesion l3 ...\n",
      "/home/popszer/Documents/ei3/petML/data/001-026/l3\n",
      "/home/popszer/Documents/ei3/petML/data/001-026/l3/40.tif\n",
      "Processing lesion l7 ...\n",
      "/home/popszer/Documents/ei3/petML/data/001-026/l7\n",
      "/home/popszer/Documents/ei3/petML/data/001-026/l7/40.tif\n",
      "Processing lesion l5 ...\n",
      "/home/popszer/Documents/ei3/petML/data/001-026/l5\n",
      "/home/popszer/Documents/ei3/petML/data/001-026/l5/40.tif\n"
     ]
    }
   ],
   "source": [
    "list_patients = []\n",
    "for refPatient in os.listdir(PATH_TO_DATA):\n",
    "    print(\"Processing patient %s ...\" % refPatient)\n",
    "    patient = Patient(refPatient)\n",
    "    list_patients.append(patient)\n",
    "    patient.list_lesions = []\n",
    "    for directoryName in os.listdir(os.path.join(PATH_TO_DATA, patient.ref)):\n",
    "        if directoryName != 'dcm' and directoryName != []:\n",
    "            print(\"Processing lesion %s ...\" % directoryName)\n",
    "            masksPath = os.path.join(PATH_TO_DATA, refPatient, directoryName)\n",
    "            lesion = Lesion(directoryName, masksPath)\n",
    "            patient.list_lesions.append(lesion)\n",
    "\n",
    "            lesion.dico_features = setFeatures(lesion.dico_features, patient.image, lesion.mask, PARAM_PATH)\n",
    "            "
   ]
  },
  {
   "cell_type": "markdown",
   "metadata": {},
   "source": [
    "_NB_  : Je suppose un bug sur la lésion l1 du patient 001-026, certaines valeurs du masque doivent être incohérentes car tous les autres masques fonctionnnent. Pour mes tests, j'ai déplacé cette data dans un donnée corrupted_data"
   ]
  },
  {
   "cell_type": "code",
   "execution_count": 18,
   "metadata": {},
   "outputs": [
    {
     "name": "stdout",
     "output_type": "stream",
     "text": [
      "001-052\n",
      "l1\n",
      "{'Autocorrelation': 902.80733956587528, 'ClusterProminence': 17416209.652939733, 'ClusterShade': 30322.072114710805, 'Contrast': 47.579093959193905, 'Correlation': 0.55211346767827474, 'DifferenceEntropy': 2.0281347894698687, 'DifferenceVariance': 30.51572484886578}\n",
      "001-026\n",
      "l4\n",
      "{'Autocorrelation': 4058.1034035230582, 'ClusterProminence': 12266804.879025044, 'ClusterShade': 1291.1573753176051, 'Contrast': 147.37869818595289, 'Correlation': 0.34441572246404761, 'DifferenceEntropy': 2.80077473886683, 'DifferenceVariance': 47.863900988373857}\n",
      "001-026\n",
      "l2\n",
      "{'Autocorrelation': 3145.9584084505314, 'ClusterProminence': 21505136.272417586, 'ClusterShade': 39569.422803664223, 'Contrast': 325.18702768237779, 'Correlation': 0.52999469553114131, 'DifferenceEntropy': 4.5911842553968505, 'DifferenceVariance': 146.62820150948852}\n",
      "001-026\n",
      "l6\n",
      "{'Autocorrelation': 5744.8803974481043, 'ClusterProminence': 208496374.62540489, 'ClusterShade': 544262.0619664517, 'Contrast': 390.14792539009562, 'Correlation': 0.70368319744206509, 'DifferenceEntropy': 3.6612423660855984, 'DifferenceVariance': 202.95411453069079}\n",
      "001-026\n",
      "l3\n",
      "{'Autocorrelation': 4550.6085010417974, 'ClusterProminence': 51810874.135019712, 'ClusterShade': 69649.722570991566, 'Contrast': 699.28169585103728, 'Correlation': 0.60633857262350943, 'DifferenceEntropy': 4.1706430249438764, 'DifferenceVariance': 322.50304908045177}\n",
      "001-026\n",
      "l7\n",
      "{'Autocorrelation': 5174.4383465133787, 'ClusterProminence': 84333956.749411821, 'ClusterShade': 275249.60656467977, 'Contrast': 762.62233947532354, 'Correlation': 0.54333766202728351, 'DifferenceEntropy': 3.9517239039117902, 'DifferenceVariance': 312.31786594403479}\n",
      "001-026\n",
      "l5\n",
      "{'Autocorrelation': 15478.56975711558, 'ClusterProminence': 351011141.26887482, 'ClusterShade': 966516.53866641119, 'Contrast': 2324.8663991126573, 'Correlation': 0.56582750253580472, 'DifferenceEntropy': 4.7272835533183475, 'DifferenceVariance': 914.87262808252058}\n"
     ]
    }
   ],
   "source": [
    "for patient in list_patients:\n",
    "    for lesion in patient.list_lesions:\n",
    "        print(patient.ref)\n",
    "        print(lesion.ref)\n",
    "        print(lesion.dico_features)"
   ]
  }
 ],
 "metadata": {
  "kernelspec": {
   "display_name": "Python 3",
   "language": "python",
   "name": "python3"
  },
  "language_info": {
   "codemirror_mode": {
    "name": "ipython",
    "version": 3
   },
   "file_extension": ".py",
   "mimetype": "text/x-python",
   "name": "python",
   "nbconvert_exporter": "python",
   "pygments_lexer": "ipython3",
   "version": "3.6.3"
  }
 },
 "nbformat": 4,
 "nbformat_minor": 2
}
