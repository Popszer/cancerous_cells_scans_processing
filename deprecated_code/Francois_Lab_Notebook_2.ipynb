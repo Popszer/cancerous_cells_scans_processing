{
 "cells": [
  {
   "cell_type": "markdown",
   "metadata": {},
   "source": [
    "# François' Dev Notebook 2\n"
   ]
  },
  {
   "cell_type": "markdown",
   "metadata": {},
   "source": [
    "### Pipeline implementation \n",
    "The goal of this notebook is to build the pipeline required to process the PET scans. <br><br>\n",
    "INPUTS : <br>\n",
    "- pet scans of the patients\n",
    "- masks assosciated to the pet scans \n",
    "\n",
    "\n",
    "OUTPUT : <br>\n",
    "- list of extracted features per scans & masks"
   ]
  },
  {
   "cell_type": "markdown",
   "metadata": {},
   "source": [
    "### Step 1 :\n",
    "Calcul de la dimension (x,y,z) la plus grande entre tous les masques pour optimiser le calcul de la segmentation par consensus (deux méthodes : vote majoritaire et STAPLE). On utilise pour cela la macro \"Crop1.ijm\". Cette macro exemple prend en entrée 5 méthodes différentes (nous, nous en aurons 3). Elle sort un fichier \"Log.txt\" qui sera utilisée dans l'étape 3 "
   ]
  },
  {
   "cell_type": "code",
   "execution_count": null,
   "metadata": {
    "collapsed": true
   },
   "outputs": [],
   "source": []
  },
  {
   "cell_type": "markdown",
   "metadata": {},
   "source": [
    "### Step 2 :\n",
    "\"Crop\" de tous les masques + de la pile DICOM pour la réduire aux dimensions maximales de la lésion en tenant compte de tous les masques. Au passage, la pile DICOM du patient est convertie de l'unité Bq/mL en une unité normalisée appelée SUV. La macro \"Crop2.ijm\" fait se travail"
   ]
  },
  {
   "cell_type": "code",
   "execution_count": null,
   "metadata": {
    "collapsed": true
   },
   "outputs": [],
   "source": []
  },
  {
   "cell_type": "markdown",
   "metadata": {},
   "source": [
    "### Step 3 :\n",
    "Calcul de la segmentation par consensus par la méthode de vote majoritaire. Code => votemaj_clinique.py\n"
   ]
  },
  {
   "cell_type": "code",
   "execution_count": null,
   "metadata": {
    "collapsed": true
   },
   "outputs": [],
   "source": []
  },
  {
   "cell_type": "markdown",
   "metadata": {},
   "source": [
    "### Step 4 :\n",
    "Calcul de la segmentation par consensus par la méthode STAPLE. Code => staple_clinique.py "
   ]
  },
  {
   "cell_type": "code",
   "execution_count": null,
   "metadata": {
    "collapsed": true
   },
   "outputs": [],
   "source": []
  },
  {
   "cell_type": "markdown",
   "metadata": {},
   "source": [
    "### Step 5 :\n",
    "A ce stade, on se retrouve avec une pile DICOM réduite extraite de l'étape 2 et deux masques (un extrait de l'étape 3 et un extrait de l'étape 4).\n",
    "On peut alors charger l'un ou l'autre des masques + la pile DICOM réduite pour lancer pyradiomics et extraction de features.\n"
   ]
  },
  {
   "cell_type": "code",
   "execution_count": null,
   "metadata": {
    "collapsed": true
   },
   "outputs": [],
   "source": []
  }
 ],
 "metadata": {
  "kernelspec": {
   "display_name": "Python 3",
   "language": "python",
   "name": "python3"
  },
  "language_info": {
   "codemirror_mode": {
    "name": "ipython",
    "version": 3
   },
   "file_extension": ".py",
   "mimetype": "text/x-python",
   "name": "python",
   "nbconvert_exporter": "python",
   "pygments_lexer": "ipython3",
   "version": "3.6.3"
  }
 },
 "nbformat": 4,
 "nbformat_minor": 2
}
